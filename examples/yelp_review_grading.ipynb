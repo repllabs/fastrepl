{
 "cells": [
  {
   "cell_type": "code",
   "execution_count": 1,
   "metadata": {},
   "outputs": [],
   "source": [
    "import fastrepl.repl as fastrepl\n",
    "\n",
    "fastrepl.LLMCache.disable()\n",
    "fastrepl.DEBUG(0)"
   ]
  },
  {
   "cell_type": "code",
   "execution_count": 2,
   "metadata": {},
   "outputs": [],
   "source": [
    "from IPython.display import clear_output"
   ]
  },
  {
   "cell_type": "code",
   "execution_count": 3,
   "metadata": {},
   "outputs": [],
   "source": [
    "from datasets import load_dataset\n",
    "\n",
    "# We have dataset for meta-eval\n",
    "dataset = load_dataset(\"yelp_review_full\", split=\"test\")\n",
    "dataset = dataset.shuffle(seed=8)\n",
    "dataset = dataset.select(range(30))\n",
    "dataset = dataset.rename_column(\"text\", \"input\")\n",
    "dataset = dataset.map(\n",
    "    lambda row: {\"reference\": row[\"label\"] + 1, \"input\": row[\"input\"]},\n",
    "    remove_columns=[\"label\"],\n",
    ")"
   ]
  },
  {
   "cell_type": "code",
   "execution_count": 4,
   "metadata": {},
   "outputs": [],
   "source": [
    "def print_metric(metric_name, predictions, references):\n",
    "    metric = fastrepl.load_metric(metric_name)\n",
    "    result = metric.compute(predictions=predictions, references=references)\n",
    "    print(f\"{metric_name}: {result[metric_name]}\")"
   ]
  },
  {
   "cell_type": "code",
   "execution_count": 5,
   "metadata": {},
   "outputs": [
    {
     "data": {
      "application/vnd.jupyter.widget-view+json": {
       "model_id": "f7dbbe64d37b472c9962c9483abfa9b2",
       "version_major": 2,
       "version_minor": 0
      },
      "text/plain": [
       "Output()"
      ]
     },
     "metadata": {},
     "output_type": "display_data"
    },
    {
     "data": {
      "text/html": [
       "<pre style=\"white-space:pre;overflow-x:auto;line-height:normal;font-family:Menlo,'DejaVu Sans Mono',consolas,'Courier New',monospace\">/Users/yujonglee/dev/fastrepl/fastrepl/fastrepl/warnings.py:24: CompletionTruncatedWarning: 5 | \n",
       "https://docs.fastrepl.com/miscellaneous/warnings_and_errors#completiontruncated\n",
       "</pre>\n"
      ],
      "text/plain": [
       "/Users/yujonglee/dev/fastrepl/fastrepl/fastrepl/warnings.py:24: CompletionTruncatedWarning: 5 | \n",
       "https://docs.fastrepl.com/miscellaneous/warnings_and_errors#completiontruncated\n"
      ]
     },
     "metadata": {},
     "output_type": "display_data"
    },
    {
     "data": {
      "text/html": [
       "<pre style=\"white-space:pre;overflow-x:auto;line-height:normal;font-family:Menlo,'DejaVu Sans Mono',consolas,'Courier New',monospace\">/Users/yujonglee/dev/fastrepl/fastrepl/fastrepl/warnings.py:24: CompletionTruncatedWarning: 4 | \n",
       "https://docs.fastrepl.com/miscellaneous/warnings_and_errors#completiontruncated\n",
       "</pre>\n"
      ],
      "text/plain": [
       "/Users/yujonglee/dev/fastrepl/fastrepl/fastrepl/warnings.py:24: CompletionTruncatedWarning: 4 | \n",
       "https://docs.fastrepl.com/miscellaneous/warnings_and_errors#completiontruncated\n"
      ]
     },
     "metadata": {},
     "output_type": "display_data"
    },
    {
     "data": {
      "text/html": [
       "<pre style=\"white-space:pre;overflow-x:auto;line-height:normal;font-family:Menlo,'DejaVu Sans Mono',consolas,'Courier New',monospace\">/Users/yujonglee/dev/fastrepl/fastrepl/fastrepl/warnings.py:24: CompletionTruncatedWarning: 1 | \n",
       "https://docs.fastrepl.com/miscellaneous/warnings_and_errors#completiontruncated\n",
       "</pre>\n"
      ],
      "text/plain": [
       "/Users/yujonglee/dev/fastrepl/fastrepl/fastrepl/warnings.py:24: CompletionTruncatedWarning: 1 | \n",
       "https://docs.fastrepl.com/miscellaneous/warnings_and_errors#completiontruncated\n"
      ]
     },
     "metadata": {},
     "output_type": "display_data"
    },
    {
     "data": {
      "text/html": [
       "<pre style=\"white-space:pre;overflow-x:auto;line-height:normal;font-family:Menlo,'DejaVu Sans Mono',consolas,'Courier New',monospace\">/Users/yujonglee/dev/fastrepl/fastrepl/fastrepl/warnings.py:24: CompletionTruncatedWarning: 3 | \n",
       "https://docs.fastrepl.com/miscellaneous/warnings_and_errors#completiontruncated\n",
       "</pre>\n"
      ],
      "text/plain": [
       "/Users/yujonglee/dev/fastrepl/fastrepl/fastrepl/warnings.py:24: CompletionTruncatedWarning: 3 | \n",
       "https://docs.fastrepl.com/miscellaneous/warnings_and_errors#completiontruncated\n"
      ]
     },
     "metadata": {},
     "output_type": "display_data"
    },
    {
     "data": {
      "text/html": [
       "<pre style=\"white-space:pre;overflow-x:auto;line-height:normal;font-family:Menlo,'DejaVu Sans Mono',consolas,'Courier New',monospace\">/Users/yujonglee/dev/fastrepl/fastrepl/fastrepl/warnings.py:24: CompletionTruncatedWarning: 2 | \n",
       "https://docs.fastrepl.com/miscellaneous/warnings_and_errors#completiontruncated\n",
       "</pre>\n"
      ],
      "text/plain": [
       "/Users/yujonglee/dev/fastrepl/fastrepl/fastrepl/warnings.py:24: CompletionTruncatedWarning: 2 | \n",
       "https://docs.fastrepl.com/miscellaneous/warnings_and_errors#completiontruncated\n"
      ]
     },
     "metadata": {},
     "output_type": "display_data"
    },
    {
     "data": {
      "text/html": [
       "<pre style=\"white-space:pre;overflow-x:auto;line-height:normal;font-family:Menlo,'DejaVu Sans Mono',consolas,'Courier New',monospace\"></pre>\n"
      ],
      "text/plain": []
     },
     "metadata": {},
     "output_type": "display_data"
    },
    {
     "data": {
      "text/html": [
       "<pre style=\"white-space:pre;overflow-x:auto;line-height:normal;font-family:Menlo,'DejaVu Sans Mono',consolas,'Courier New',monospace\">\n",
       "</pre>\n"
      ],
      "text/plain": [
       "\n"
      ]
     },
     "metadata": {},
     "output_type": "display_data"
    },
    {
     "data": {
      "application/vnd.jupyter.widget-view+json": {
       "model_id": "def14b5a500747d8b3acd294a379b9a6",
       "version_major": 2,
       "version_minor": 0
      },
      "text/plain": [
       "Map:   0%|          | 0/30 [00:00<?, ? examples/s]"
      ]
     },
     "metadata": {},
     "output_type": "display_data"
    },
    {
     "name": "stdout",
     "output_type": "stream",
     "text": [
      "accuracy: 0.4\n",
      "mse: 1.8\n",
      "mae: 0.9333333333333333\n"
     ]
    },
    {
     "data": {
      "text/html": [
       "<div>\n",
       "<style scoped>\n",
       "    .dataframe tbody tr th:only-of-type {\n",
       "        vertical-align: middle;\n",
       "    }\n",
       "\n",
       "    .dataframe tbody tr th {\n",
       "        vertical-align: top;\n",
       "    }\n",
       "\n",
       "    .dataframe thead th {\n",
       "        text-align: right;\n",
       "    }\n",
       "</style>\n",
       "<table border=\"1\" class=\"dataframe\">\n",
       "  <thead>\n",
       "    <tr style=\"text-align: right;\">\n",
       "      <th></th>\n",
       "      <th>input</th>\n",
       "      <th>reference</th>\n",
       "      <th>prediction</th>\n",
       "    </tr>\n",
       "  </thead>\n",
       "  <tbody>\n",
       "    <tr>\n",
       "      <th>0</th>\n",
       "      <td>Stayed at the Wm Penn down the street for a we...</td>\n",
       "      <td>5</td>\n",
       "      <td>5</td>\n",
       "    </tr>\n",
       "    <tr>\n",
       "      <th>1</th>\n",
       "      <td>We tried out the lunch specials and found them...</td>\n",
       "      <td>4</td>\n",
       "      <td>5</td>\n",
       "    </tr>\n",
       "    <tr>\n",
       "      <th>2</th>\n",
       "      <td>Should have known better than to eat in a plac...</td>\n",
       "      <td>1</td>\n",
       "      <td>4</td>\n",
       "    </tr>\n",
       "    <tr>\n",
       "      <th>3</th>\n",
       "      <td>This place has sure changed...and not for the ...</td>\n",
       "      <td>2</td>\n",
       "      <td>1</td>\n",
       "    </tr>\n",
       "    <tr>\n",
       "      <th>4</th>\n",
       "      <td>I've been bringing my son to the owner Michael...</td>\n",
       "      <td>5</td>\n",
       "      <td>5</td>\n",
       "    </tr>\n",
       "    <tr>\n",
       "      <th>5</th>\n",
       "      <td>The trip to the location takes two busses and ...</td>\n",
       "      <td>1</td>\n",
       "      <td>1</td>\n",
       "    </tr>\n",
       "    <tr>\n",
       "      <th>6</th>\n",
       "      <td>This restaurant was suggested to me by a frien...</td>\n",
       "      <td>4</td>\n",
       "      <td>4</td>\n",
       "    </tr>\n",
       "    <tr>\n",
       "      <th>7</th>\n",
       "      <td>This place is unique because you are sitting o...</td>\n",
       "      <td>3</td>\n",
       "      <td>5</td>\n",
       "    </tr>\n",
       "    <tr>\n",
       "      <th>8</th>\n",
       "      <td>Whew, $10 for a whiskey ginger ale and $18 for...</td>\n",
       "      <td>3</td>\n",
       "      <td>1</td>\n",
       "    </tr>\n",
       "    <tr>\n",
       "      <th>9</th>\n",
       "      <td>Loove me some Pei Wei! Boyfriend isn't a fan, ...</td>\n",
       "      <td>4</td>\n",
       "      <td>1</td>\n",
       "    </tr>\n",
       "    <tr>\n",
       "      <th>10</th>\n",
       "      <td>I have been looking for a perfect Thai food re...</td>\n",
       "      <td>5</td>\n",
       "      <td>5</td>\n",
       "    </tr>\n",
       "    <tr>\n",
       "      <th>11</th>\n",
       "      <td>This restaurant has a nice classic American de...</td>\n",
       "      <td>4</td>\n",
       "      <td>5</td>\n",
       "    </tr>\n",
       "    <tr>\n",
       "      <th>12</th>\n",
       "      <td>DH was getting pizza at #1 Brothers so I origi...</td>\n",
       "      <td>4</td>\n",
       "      <td>1</td>\n",
       "    </tr>\n",
       "    <tr>\n",
       "      <th>13</th>\n",
       "      <td>A EVITER !\\n\\nNous avons attendu 2h45 pour avo...</td>\n",
       "      <td>1</td>\n",
       "      <td>1</td>\n",
       "    </tr>\n",
       "    <tr>\n",
       "      <th>14</th>\n",
       "      <td>DO NOT ORDER FROM VITACOST!!!\\n\\nI have never ...</td>\n",
       "      <td>1</td>\n",
       "      <td>1</td>\n",
       "    </tr>\n",
       "    <tr>\n",
       "      <th>15</th>\n",
       "      <td>Went here today to get some sushi grade salmon...</td>\n",
       "      <td>4</td>\n",
       "      <td>5</td>\n",
       "    </tr>\n",
       "    <tr>\n",
       "      <th>16</th>\n",
       "      <td>Lots of hands on stuff to do and explore. My f...</td>\n",
       "      <td>4</td>\n",
       "      <td>5</td>\n",
       "    </tr>\n",
       "    <tr>\n",
       "      <th>17</th>\n",
       "      <td>I just started working at a corporate office i...</td>\n",
       "      <td>2</td>\n",
       "      <td>3</td>\n",
       "    </tr>\n",
       "    <tr>\n",
       "      <th>18</th>\n",
       "      <td>Went to this place and it is the bomb. I had s...</td>\n",
       "      <td>5</td>\n",
       "      <td>5</td>\n",
       "    </tr>\n",
       "    <tr>\n",
       "      <th>19</th>\n",
       "      <td>I was never really a fan of Hamburgers so my r...</td>\n",
       "      <td>4</td>\n",
       "      <td>5</td>\n",
       "    </tr>\n",
       "    <tr>\n",
       "      <th>20</th>\n",
       "      <td>Just opened and boy is the pizza great.  A awe...</td>\n",
       "      <td>4</td>\n",
       "      <td>4</td>\n",
       "    </tr>\n",
       "    <tr>\n",
       "      <th>21</th>\n",
       "      <td>They do not have their own bathroom. I came he...</td>\n",
       "      <td>2</td>\n",
       "      <td>4</td>\n",
       "    </tr>\n",
       "    <tr>\n",
       "      <th>22</th>\n",
       "      <td>so far, this is the most deceptive yelp rating...</td>\n",
       "      <td>2</td>\n",
       "      <td>2</td>\n",
       "    </tr>\n",
       "    <tr>\n",
       "      <th>23</th>\n",
       "      <td>Pretty okay pizza.  Standard so-so Pittsburgh ...</td>\n",
       "      <td>2</td>\n",
       "      <td>4</td>\n",
       "    </tr>\n",
       "    <tr>\n",
       "      <th>24</th>\n",
       "      <td>Amazing atmosphere, great service, fantastic d...</td>\n",
       "      <td>5</td>\n",
       "      <td>5</td>\n",
       "    </tr>\n",
       "    <tr>\n",
       "      <th>25</th>\n",
       "      <td>Tried Envy based on the ratings that people le...</td>\n",
       "      <td>2</td>\n",
       "      <td>1</td>\n",
       "    </tr>\n",
       "    <tr>\n",
       "      <th>26</th>\n",
       "      <td>Just got back from a stay at the Phoenician.  ...</td>\n",
       "      <td>2</td>\n",
       "      <td>1</td>\n",
       "    </tr>\n",
       "    <tr>\n",
       "      <th>27</th>\n",
       "      <td>I heard mixed reviews about Lure. We decided t...</td>\n",
       "      <td>5</td>\n",
       "      <td>5</td>\n",
       "    </tr>\n",
       "    <tr>\n",
       "      <th>28</th>\n",
       "      <td>Great sandwiches! the bread was superb. I had ...</td>\n",
       "      <td>4</td>\n",
       "      <td>5</td>\n",
       "    </tr>\n",
       "    <tr>\n",
       "      <th>29</th>\n",
       "      <td>I was very disappointed with my meal here. It ...</td>\n",
       "      <td>2</td>\n",
       "      <td>1</td>\n",
       "    </tr>\n",
       "  </tbody>\n",
       "</table>\n",
       "</div>"
      ],
      "text/plain": [
       "                                                input  reference  prediction\n",
       "0   Stayed at the Wm Penn down the street for a we...          5           5\n",
       "1   We tried out the lunch specials and found them...          4           5\n",
       "2   Should have known better than to eat in a plac...          1           4\n",
       "3   This place has sure changed...and not for the ...          2           1\n",
       "4   I've been bringing my son to the owner Michael...          5           5\n",
       "5   The trip to the location takes two busses and ...          1           1\n",
       "6   This restaurant was suggested to me by a frien...          4           4\n",
       "7   This place is unique because you are sitting o...          3           5\n",
       "8   Whew, $10 for a whiskey ginger ale and $18 for...          3           1\n",
       "9   Loove me some Pei Wei! Boyfriend isn't a fan, ...          4           1\n",
       "10  I have been looking for a perfect Thai food re...          5           5\n",
       "11  This restaurant has a nice classic American de...          4           5\n",
       "12  DH was getting pizza at #1 Brothers so I origi...          4           1\n",
       "13  A EVITER !\\n\\nNous avons attendu 2h45 pour avo...          1           1\n",
       "14  DO NOT ORDER FROM VITACOST!!!\\n\\nI have never ...          1           1\n",
       "15  Went here today to get some sushi grade salmon...          4           5\n",
       "16  Lots of hands on stuff to do and explore. My f...          4           5\n",
       "17  I just started working at a corporate office i...          2           3\n",
       "18  Went to this place and it is the bomb. I had s...          5           5\n",
       "19  I was never really a fan of Hamburgers so my r...          4           5\n",
       "20  Just opened and boy is the pizza great.  A awe...          4           4\n",
       "21  They do not have their own bathroom. I came he...          2           4\n",
       "22  so far, this is the most deceptive yelp rating...          2           2\n",
       "23  Pretty okay pizza.  Standard so-so Pittsburgh ...          2           4\n",
       "24  Amazing atmosphere, great service, fantastic d...          5           5\n",
       "25  Tried Envy based on the ratings that people le...          2           1\n",
       "26  Just got back from a stay at the Phoenician.  ...          2           1\n",
       "27  I heard mixed reviews about Lure. We decided t...          5           5\n",
       "28  Great sandwiches! the bread was superb. I had ...          4           5\n",
       "29  I was very disappointed with my meal here. It ...          2           1"
      ]
     },
     "execution_count": 5,
     "metadata": {},
     "output_type": "execute_result"
    }
   ],
   "source": [
    "clear_output(wait=True)\n",
    "\n",
    "eval1 = fastrepl.Evaluator(\n",
    "    pipeline=[\n",
    "        fastrepl.LLMGradingHead(\n",
    "            model=\"gpt-3.5-turbo\",\n",
    "            context=\"You will get a input text from Yelp review. Grade user's satisfaction from 1 to 5.\",\n",
    "            number_from=1,\n",
    "            number_to=5,\n",
    "            position_debias_strategy=\"shuffle\",\n",
    "        )\n",
    "    ]\n",
    ")\n",
    "\n",
    "\n",
    "def to_int(example):\n",
    "    example[\"prediction\"] = int(example[\"prediction\"])\n",
    "    return example\n",
    "\n",
    "\n",
    "result1 = fastrepl.LocalRunner(evaluator=eval1, dataset=dataset).run()\n",
    "result1 = result1.map(to_int)\n",
    "\n",
    "print_metric(\"accuracy\", result1[\"prediction\"], result1[\"reference\"])\n",
    "print_metric(\"mse\", result1[\"prediction\"], result1[\"reference\"])\n",
    "print_metric(\"mae\", result1[\"prediction\"], result1[\"reference\"])\n",
    "\n",
    "result1.to_pandas()"
   ]
  },
  {
   "cell_type": "code",
   "execution_count": 7,
   "metadata": {},
   "outputs": [
    {
     "data": {
      "application/vnd.jupyter.widget-view+json": {
       "model_id": "9b4e5a9956f8415f999b964d118b0c5d",
       "version_major": 2,
       "version_minor": 0
      },
      "text/plain": [
       "Output()"
      ]
     },
     "metadata": {},
     "output_type": "display_data"
    },
    {
     "data": {
      "text/html": [
       "<pre style=\"white-space:pre;overflow-x:auto;line-height:normal;font-family:Menlo,'DejaVu Sans Mono',consolas,'Courier New',monospace\">/Users/yujonglee/dev/fastrepl/fastrepl/fastrepl/warnings.py:24: CompletionTruncatedWarning: 2 | \n",
       "https://docs.fastrepl.com/miscellaneous/warnings_and_errors#completiontruncated\n",
       "</pre>\n"
      ],
      "text/plain": [
       "/Users/yujonglee/dev/fastrepl/fastrepl/fastrepl/warnings.py:24: CompletionTruncatedWarning: 2 | \n",
       "https://docs.fastrepl.com/miscellaneous/warnings_and_errors#completiontruncated\n"
      ]
     },
     "metadata": {},
     "output_type": "display_data"
    },
    {
     "data": {
      "text/html": [
       "<pre style=\"white-space:pre;overflow-x:auto;line-height:normal;font-family:Menlo,'DejaVu Sans Mono',consolas,'Courier New',monospace\">/Users/yujonglee/dev/fastrepl/fastrepl/fastrepl/warnings.py:24: CompletionTruncatedWarning: 4 | \n",
       "https://docs.fastrepl.com/miscellaneous/warnings_and_errors#completiontruncated\n",
       "</pre>\n"
      ],
      "text/plain": [
       "/Users/yujonglee/dev/fastrepl/fastrepl/fastrepl/warnings.py:24: CompletionTruncatedWarning: 4 | \n",
       "https://docs.fastrepl.com/miscellaneous/warnings_and_errors#completiontruncated\n"
      ]
     },
     "metadata": {},
     "output_type": "display_data"
    },
    {
     "data": {
      "text/html": [
       "<pre style=\"white-space:pre;overflow-x:auto;line-height:normal;font-family:Menlo,'DejaVu Sans Mono',consolas,'Courier New',monospace\">/Users/yujonglee/dev/fastrepl/fastrepl/fastrepl/warnings.py:24: CompletionTruncatedWarning: 5 | \n",
       "https://docs.fastrepl.com/miscellaneous/warnings_and_errors#completiontruncated\n",
       "</pre>\n"
      ],
      "text/plain": [
       "/Users/yujonglee/dev/fastrepl/fastrepl/fastrepl/warnings.py:24: CompletionTruncatedWarning: 5 | \n",
       "https://docs.fastrepl.com/miscellaneous/warnings_and_errors#completiontruncated\n"
      ]
     },
     "metadata": {},
     "output_type": "display_data"
    },
    {
     "data": {
      "text/html": [
       "<pre style=\"white-space:pre;overflow-x:auto;line-height:normal;font-family:Menlo,'DejaVu Sans Mono',consolas,'Courier New',monospace\">/Users/yujonglee/dev/fastrepl/fastrepl/fastrepl/warnings.py:24: CompletionTruncatedWarning: 1 | \n",
       "https://docs.fastrepl.com/miscellaneous/warnings_and_errors#completiontruncated\n",
       "</pre>\n"
      ],
      "text/plain": [
       "/Users/yujonglee/dev/fastrepl/fastrepl/fastrepl/warnings.py:24: CompletionTruncatedWarning: 1 | \n",
       "https://docs.fastrepl.com/miscellaneous/warnings_and_errors#completiontruncated\n"
      ]
     },
     "metadata": {},
     "output_type": "display_data"
    },
    {
     "data": {
      "text/html": [
       "<pre style=\"white-space:pre;overflow-x:auto;line-height:normal;font-family:Menlo,'DejaVu Sans Mono',consolas,'Courier New',monospace\">/Users/yujonglee/dev/fastrepl/fastrepl/fastrepl/warnings.py:24: CompletionTruncatedWarning: 3 | \n",
       "https://docs.fastrepl.com/miscellaneous/warnings_and_errors#completiontruncated\n",
       "</pre>\n"
      ],
      "text/plain": [
       "/Users/yujonglee/dev/fastrepl/fastrepl/fastrepl/warnings.py:24: CompletionTruncatedWarning: 3 | \n",
       "https://docs.fastrepl.com/miscellaneous/warnings_and_errors#completiontruncated\n"
      ]
     },
     "metadata": {},
     "output_type": "display_data"
    },
    {
     "data": {
      "text/html": [
       "<pre style=\"white-space:pre;overflow-x:auto;line-height:normal;font-family:Menlo,'DejaVu Sans Mono',consolas,'Courier New',monospace\"></pre>\n"
      ],
      "text/plain": []
     },
     "metadata": {},
     "output_type": "display_data"
    },
    {
     "data": {
      "text/html": [
       "<pre style=\"white-space:pre;overflow-x:auto;line-height:normal;font-family:Menlo,'DejaVu Sans Mono',consolas,'Courier New',monospace\">\n",
       "</pre>\n"
      ],
      "text/plain": [
       "\n"
      ]
     },
     "metadata": {},
     "output_type": "display_data"
    },
    {
     "data": {
      "application/vnd.jupyter.widget-view+json": {
       "model_id": "771c997aefda47fa8c8cbd393b6aaf75",
       "version_major": 2,
       "version_minor": 0
      },
      "text/plain": [
       "Map:   0%|          | 0/30 [00:00<?, ? examples/s]"
      ]
     },
     "metadata": {},
     "output_type": "display_data"
    },
    {
     "name": "stdout",
     "output_type": "stream",
     "text": [
      "accuracy: 0.7\n",
      "mse: 0.3\n",
      "mae: 0.3\n"
     ]
    },
    {
     "data": {
      "text/html": [
       "<div>\n",
       "<style scoped>\n",
       "    .dataframe tbody tr th:only-of-type {\n",
       "        vertical-align: middle;\n",
       "    }\n",
       "\n",
       "    .dataframe tbody tr th {\n",
       "        vertical-align: top;\n",
       "    }\n",
       "\n",
       "    .dataframe thead th {\n",
       "        text-align: right;\n",
       "    }\n",
       "</style>\n",
       "<table border=\"1\" class=\"dataframe\">\n",
       "  <thead>\n",
       "    <tr style=\"text-align: right;\">\n",
       "      <th></th>\n",
       "      <th>input</th>\n",
       "      <th>reference</th>\n",
       "      <th>prediction</th>\n",
       "    </tr>\n",
       "  </thead>\n",
       "  <tbody>\n",
       "    <tr>\n",
       "      <th>0</th>\n",
       "      <td>Stayed at the Wm Penn down the street for a we...</td>\n",
       "      <td>5</td>\n",
       "      <td>4</td>\n",
       "    </tr>\n",
       "    <tr>\n",
       "      <th>1</th>\n",
       "      <td>We tried out the lunch specials and found them...</td>\n",
       "      <td>4</td>\n",
       "      <td>4</td>\n",
       "    </tr>\n",
       "    <tr>\n",
       "      <th>2</th>\n",
       "      <td>Should have known better than to eat in a plac...</td>\n",
       "      <td>1</td>\n",
       "      <td>2</td>\n",
       "    </tr>\n",
       "    <tr>\n",
       "      <th>3</th>\n",
       "      <td>This place has sure changed...and not for the ...</td>\n",
       "      <td>2</td>\n",
       "      <td>2</td>\n",
       "    </tr>\n",
       "    <tr>\n",
       "      <th>4</th>\n",
       "      <td>I've been bringing my son to the owner Michael...</td>\n",
       "      <td>5</td>\n",
       "      <td>5</td>\n",
       "    </tr>\n",
       "    <tr>\n",
       "      <th>5</th>\n",
       "      <td>The trip to the location takes two busses and ...</td>\n",
       "      <td>1</td>\n",
       "      <td>1</td>\n",
       "    </tr>\n",
       "    <tr>\n",
       "      <th>6</th>\n",
       "      <td>This restaurant was suggested to me by a frien...</td>\n",
       "      <td>4</td>\n",
       "      <td>4</td>\n",
       "    </tr>\n",
       "    <tr>\n",
       "      <th>7</th>\n",
       "      <td>This place is unique because you are sitting o...</td>\n",
       "      <td>3</td>\n",
       "      <td>3</td>\n",
       "    </tr>\n",
       "    <tr>\n",
       "      <th>8</th>\n",
       "      <td>Whew, $10 for a whiskey ginger ale and $18 for...</td>\n",
       "      <td>3</td>\n",
       "      <td>3</td>\n",
       "    </tr>\n",
       "    <tr>\n",
       "      <th>9</th>\n",
       "      <td>Loove me some Pei Wei! Boyfriend isn't a fan, ...</td>\n",
       "      <td>4</td>\n",
       "      <td>4</td>\n",
       "    </tr>\n",
       "    <tr>\n",
       "      <th>10</th>\n",
       "      <td>I have been looking for a perfect Thai food re...</td>\n",
       "      <td>5</td>\n",
       "      <td>5</td>\n",
       "    </tr>\n",
       "    <tr>\n",
       "      <th>11</th>\n",
       "      <td>This restaurant has a nice classic American de...</td>\n",
       "      <td>4</td>\n",
       "      <td>5</td>\n",
       "    </tr>\n",
       "    <tr>\n",
       "      <th>12</th>\n",
       "      <td>DH was getting pizza at #1 Brothers so I origi...</td>\n",
       "      <td>4</td>\n",
       "      <td>5</td>\n",
       "    </tr>\n",
       "    <tr>\n",
       "      <th>13</th>\n",
       "      <td>A EVITER !\\n\\nNous avons attendu 2h45 pour avo...</td>\n",
       "      <td>1</td>\n",
       "      <td>1</td>\n",
       "    </tr>\n",
       "    <tr>\n",
       "      <th>14</th>\n",
       "      <td>DO NOT ORDER FROM VITACOST!!!\\n\\nI have never ...</td>\n",
       "      <td>1</td>\n",
       "      <td>2</td>\n",
       "    </tr>\n",
       "    <tr>\n",
       "      <th>15</th>\n",
       "      <td>Went here today to get some sushi grade salmon...</td>\n",
       "      <td>4</td>\n",
       "      <td>4</td>\n",
       "    </tr>\n",
       "    <tr>\n",
       "      <th>16</th>\n",
       "      <td>Lots of hands on stuff to do and explore. My f...</td>\n",
       "      <td>4</td>\n",
       "      <td>5</td>\n",
       "    </tr>\n",
       "    <tr>\n",
       "      <th>17</th>\n",
       "      <td>I just started working at a corporate office i...</td>\n",
       "      <td>2</td>\n",
       "      <td>3</td>\n",
       "    </tr>\n",
       "    <tr>\n",
       "      <th>18</th>\n",
       "      <td>Went to this place and it is the bomb. I had s...</td>\n",
       "      <td>5</td>\n",
       "      <td>5</td>\n",
       "    </tr>\n",
       "    <tr>\n",
       "      <th>19</th>\n",
       "      <td>I was never really a fan of Hamburgers so my r...</td>\n",
       "      <td>4</td>\n",
       "      <td>4</td>\n",
       "    </tr>\n",
       "    <tr>\n",
       "      <th>20</th>\n",
       "      <td>Just opened and boy is the pizza great.  A awe...</td>\n",
       "      <td>4</td>\n",
       "      <td>4</td>\n",
       "    </tr>\n",
       "    <tr>\n",
       "      <th>21</th>\n",
       "      <td>They do not have their own bathroom. I came he...</td>\n",
       "      <td>2</td>\n",
       "      <td>3</td>\n",
       "    </tr>\n",
       "    <tr>\n",
       "      <th>22</th>\n",
       "      <td>so far, this is the most deceptive yelp rating...</td>\n",
       "      <td>2</td>\n",
       "      <td>2</td>\n",
       "    </tr>\n",
       "    <tr>\n",
       "      <th>23</th>\n",
       "      <td>Pretty okay pizza.  Standard so-so Pittsburgh ...</td>\n",
       "      <td>2</td>\n",
       "      <td>2</td>\n",
       "    </tr>\n",
       "    <tr>\n",
       "      <th>24</th>\n",
       "      <td>Amazing atmosphere, great service, fantastic d...</td>\n",
       "      <td>5</td>\n",
       "      <td>5</td>\n",
       "    </tr>\n",
       "    <tr>\n",
       "      <th>25</th>\n",
       "      <td>Tried Envy based on the ratings that people le...</td>\n",
       "      <td>2</td>\n",
       "      <td>3</td>\n",
       "    </tr>\n",
       "    <tr>\n",
       "      <th>26</th>\n",
       "      <td>Just got back from a stay at the Phoenician.  ...</td>\n",
       "      <td>2</td>\n",
       "      <td>2</td>\n",
       "    </tr>\n",
       "    <tr>\n",
       "      <th>27</th>\n",
       "      <td>I heard mixed reviews about Lure. We decided t...</td>\n",
       "      <td>5</td>\n",
       "      <td>5</td>\n",
       "    </tr>\n",
       "    <tr>\n",
       "      <th>28</th>\n",
       "      <td>Great sandwiches! the bread was superb. I had ...</td>\n",
       "      <td>4</td>\n",
       "      <td>4</td>\n",
       "    </tr>\n",
       "    <tr>\n",
       "      <th>29</th>\n",
       "      <td>I was very disappointed with my meal here. It ...</td>\n",
       "      <td>2</td>\n",
       "      <td>2</td>\n",
       "    </tr>\n",
       "  </tbody>\n",
       "</table>\n",
       "</div>"
      ],
      "text/plain": [
       "                                                input  reference  prediction\n",
       "0   Stayed at the Wm Penn down the street for a we...          5           4\n",
       "1   We tried out the lunch specials and found them...          4           4\n",
       "2   Should have known better than to eat in a plac...          1           2\n",
       "3   This place has sure changed...and not for the ...          2           2\n",
       "4   I've been bringing my son to the owner Michael...          5           5\n",
       "5   The trip to the location takes two busses and ...          1           1\n",
       "6   This restaurant was suggested to me by a frien...          4           4\n",
       "7   This place is unique because you are sitting o...          3           3\n",
       "8   Whew, $10 for a whiskey ginger ale and $18 for...          3           3\n",
       "9   Loove me some Pei Wei! Boyfriend isn't a fan, ...          4           4\n",
       "10  I have been looking for a perfect Thai food re...          5           5\n",
       "11  This restaurant has a nice classic American de...          4           5\n",
       "12  DH was getting pizza at #1 Brothers so I origi...          4           5\n",
       "13  A EVITER !\\n\\nNous avons attendu 2h45 pour avo...          1           1\n",
       "14  DO NOT ORDER FROM VITACOST!!!\\n\\nI have never ...          1           2\n",
       "15  Went here today to get some sushi grade salmon...          4           4\n",
       "16  Lots of hands on stuff to do and explore. My f...          4           5\n",
       "17  I just started working at a corporate office i...          2           3\n",
       "18  Went to this place and it is the bomb. I had s...          5           5\n",
       "19  I was never really a fan of Hamburgers so my r...          4           4\n",
       "20  Just opened and boy is the pizza great.  A awe...          4           4\n",
       "21  They do not have their own bathroom. I came he...          2           3\n",
       "22  so far, this is the most deceptive yelp rating...          2           2\n",
       "23  Pretty okay pizza.  Standard so-so Pittsburgh ...          2           2\n",
       "24  Amazing atmosphere, great service, fantastic d...          5           5\n",
       "25  Tried Envy based on the ratings that people le...          2           3\n",
       "26  Just got back from a stay at the Phoenician.  ...          2           2\n",
       "27  I heard mixed reviews about Lure. We decided t...          5           5\n",
       "28  Great sandwiches! the bread was superb. I had ...          4           4\n",
       "29  I was very disappointed with my meal here. It ...          2           2"
      ]
     },
     "execution_count": 7,
     "metadata": {},
     "output_type": "execute_result"
    }
   ],
   "source": [
    "clear_output(wait=True)\n",
    "\n",
    "# simple references + COT\n",
    "eval2 = fastrepl.Evaluator(\n",
    "    pipeline=[\n",
    "        fastrepl.LLMGradingHead(\n",
    "            model=\"gpt-3.5-turbo\",\n",
    "            context=\"You will get a input text from Yelp review. Grade user's satisfaction from 1 to 5.\",\n",
    "            number_from=1,\n",
    "            number_to=5,\n",
    "            position_debias_strategy=\"shuffle\",\n",
    "            references=[(\"this is the best!\", \"5\"), (\"this is the worst!\", \"1\")],\n",
    "        )\n",
    "    ]\n",
    ")\n",
    "\n",
    "\n",
    "def to_int(example):\n",
    "    example[\"prediction\"] = int(example[\"prediction\"])\n",
    "    return example\n",
    "\n",
    "\n",
    "result2 = fastrepl.LocalRunner(evaluator=eval2, dataset=dataset).run()\n",
    "result2 = result2.map(to_int)\n",
    "\n",
    "print_metric(\"accuracy\", result2[\"prediction\"], result2[\"reference\"])\n",
    "print_metric(\"mse\", result2[\"prediction\"], result2[\"reference\"])\n",
    "print_metric(\"mae\", result2[\"prediction\"], result2[\"reference\"])\n",
    "\n",
    "result2.to_pandas()"
   ]
  },
  {
   "cell_type": "code",
   "execution_count": 7,
   "metadata": {},
   "outputs": [
    {
     "data": {
      "application/vnd.jupyter.widget-view+json": {
       "model_id": "37dc1fb129f3416e96b10eeb118f466a",
       "version_major": 2,
       "version_minor": 0
      },
      "text/plain": [
       "Output()"
      ]
     },
     "metadata": {},
     "output_type": "display_data"
    },
    {
     "data": {
      "text/html": [
       "<pre style=\"white-space:pre;overflow-x:auto;line-height:normal;font-family:Menlo,'DejaVu Sans Mono',consolas,'Courier New',monospace\">/Users/yujonglee/dev/fastrepl/fastrepl/fastrepl/warnings.py:24: CompletionTruncatedWarning: ### Thoughts\n",
       "The reviewer starts by mentioning that the restaurant was suggested to them by a friend. They comment on the \n",
       "seating arrangement and describe the restaurant as \"sexy and dark\", although they mention that it was hard to read \n",
       "the menu in such lighting. They praise the vibe of the restaurant and highlight the extraordinary wine list. The \n",
       "reviewer then talks about the food they ordered, specifically mentioning the sausage flatbread, pesto cream pasta, \n",
       "and the hamachi, all of which they found to be incredible, flavorful, and fresh. They mention that the flatbread \n",
       "was surprisingly spicy and perfect, given that the restaurant is not specifically known for pizza. However, they \n",
       "did not have dessert so they cannot comment on that. They then mention that the service started off great but \n",
       "became less attentive as the night went on, requiring them to flag down another waiter for the check. In \n",
       "conclusion, the reviewer states that they plan on coming back to the restaurant, as it is a great place to go with \n",
       "a group or | https://docs.fastrepl.com/miscellaneous/warnings_and_errors#completiontruncated\n",
       "</pre>\n"
      ],
      "text/plain": [
       "/Users/yujonglee/dev/fastrepl/fastrepl/fastrepl/warnings.py:24: CompletionTruncatedWarning: ### Thoughts\n",
       "The reviewer starts by mentioning that the restaurant was suggested to them by a friend. They comment on the \n",
       "seating arrangement and describe the restaurant as \"sexy and dark\", although they mention that it was hard to read \n",
       "the menu in such lighting. They praise the vibe of the restaurant and highlight the extraordinary wine list. The \n",
       "reviewer then talks about the food they ordered, specifically mentioning the sausage flatbread, pesto cream pasta, \n",
       "and the hamachi, all of which they found to be incredible, flavorful, and fresh. They mention that the flatbread \n",
       "was surprisingly spicy and perfect, given that the restaurant is not specifically known for pizza. However, they \n",
       "did not have dessert so they cannot comment on that. They then mention that the service started off great but \n",
       "became less attentive as the night went on, requiring them to flag down another waiter for the check. In \n",
       "conclusion, the reviewer states that they plan on coming back to the restaurant, as it is a great place to go with \n",
       "a group or | https://docs.fastrepl.com/miscellaneous/warnings_and_errors#completiontruncated\n"
      ]
     },
     "metadata": {},
     "output_type": "display_data"
    },
    {
     "data": {
      "text/html": [
       "<pre style=\"white-space:pre;overflow-x:auto;line-height:normal;font-family:Menlo,'DejaVu Sans Mono',consolas,'Courier New',monospace\">/Users/yujonglee/dev/fastrepl/fastrepl/fastrepl/warnings.py:24: InvalidPredictionWarning: 'r' not in ['1', '2', \n",
       "'3', '4', '5']. full: ### Thoughts\n",
       "The reviewer starts by mentioning that the restaurant was suggested to them by a friend. They comment on the \n",
       "seating arrangement and describe the restaurant as \"sexy and dark\", although they mention that it was hard to read \n",
       "the menu in such lighting. They praise the vibe of the restaurant and highlight the extraordinary wine list. The \n",
       "reviewer then talks about the food they ordered, specifically mentioning the sausage flatbread, pesto cream pasta, \n",
       "and the hamachi, all of which they found to be incredible, flavorful, and fresh. They mention that the flatbread \n",
       "was surprisingly spicy and perfect, given that the restaurant is not specifically known for pizza. However, they \n",
       "did not have dessert so they cannot comment on that. They then mention that the service started off great but \n",
       "became less attentive as the night went on, requiring them to flag down another waiter for the check. In \n",
       "conclusion, the reviewer states that they plan on coming back to the restaurant, as it is a great place to go with \n",
       "a group or | https://docs.fastrepl.com/miscellaneous/warnings_and_errors#invalidprediction\n",
       "</pre>\n"
      ],
      "text/plain": [
       "/Users/yujonglee/dev/fastrepl/fastrepl/fastrepl/warnings.py:24: InvalidPredictionWarning: 'r' not in ['1', '2', \n",
       "'3', '4', '5']. full: ### Thoughts\n",
       "The reviewer starts by mentioning that the restaurant was suggested to them by a friend. They comment on the \n",
       "seating arrangement and describe the restaurant as \"sexy and dark\", although they mention that it was hard to read \n",
       "the menu in such lighting. They praise the vibe of the restaurant and highlight the extraordinary wine list. The \n",
       "reviewer then talks about the food they ordered, specifically mentioning the sausage flatbread, pesto cream pasta, \n",
       "and the hamachi, all of which they found to be incredible, flavorful, and fresh. They mention that the flatbread \n",
       "was surprisingly spicy and perfect, given that the restaurant is not specifically known for pizza. However, they \n",
       "did not have dessert so they cannot comment on that. They then mention that the service started off great but \n",
       "became less attentive as the night went on, requiring them to flag down another waiter for the check. In \n",
       "conclusion, the reviewer states that they plan on coming back to the restaurant, as it is a great place to go with \n",
       "a group or | https://docs.fastrepl.com/miscellaneous/warnings_and_errors#invalidprediction\n"
      ]
     },
     "metadata": {},
     "output_type": "display_data"
    },
    {
     "data": {
      "text/html": [
       "<pre style=\"white-space:pre;overflow-x:auto;line-height:normal;font-family:Menlo,'DejaVu Sans Mono',consolas,'Courier New',monospace\">/Users/yujonglee/dev/fastrepl/fastrepl/fastrepl/warnings.py:24: InvalidPredictionWarning: '8' not in ['1', '2', \n",
       "'3', '4', '5']. full: ### Thoughts\n",
       "The reviewer mentions that the restaurant has a nice classic American decor, specifically calling out the American \n",
       "farmer and Route 66 style. This suggests that the ambiance of the place is appealing and nostalgic. The reviewer \n",
       "also mentions that the food was very good and the service was really good too, indicating a positive dining \n",
       "experience. Additionally, the fact that the restaurant is family-owned and that they care about their customers \n",
       "speaks to their commitment and dedication. Finally, the reviewer states that they will definitely be coming back, \n",
       "which further implies their satisfaction with the overall experience.\n",
       "### Result\n",
       "4.8 | https://docs.fastrepl.com/miscellaneous/warnings_and_errors#invalidprediction\n",
       "</pre>\n"
      ],
      "text/plain": [
       "/Users/yujonglee/dev/fastrepl/fastrepl/fastrepl/warnings.py:24: InvalidPredictionWarning: '8' not in ['1', '2', \n",
       "'3', '4', '5']. full: ### Thoughts\n",
       "The reviewer mentions that the restaurant has a nice classic American decor, specifically calling out the American \n",
       "farmer and Route 66 style. This suggests that the ambiance of the place is appealing and nostalgic. The reviewer \n",
       "also mentions that the food was very good and the service was really good too, indicating a positive dining \n",
       "experience. Additionally, the fact that the restaurant is family-owned and that they care about their customers \n",
       "speaks to their commitment and dedication. Finally, the reviewer states that they will definitely be coming back, \n",
       "which further implies their satisfaction with the overall experience.\n",
       "### Result\n",
       "4.8 | https://docs.fastrepl.com/miscellaneous/warnings_and_errors#invalidprediction\n"
      ]
     },
     "metadata": {},
     "output_type": "display_data"
    },
    {
     "data": {
      "text/html": [
       "<pre style=\"white-space:pre;overflow-x:auto;line-height:normal;font-family:Menlo,'DejaVu Sans Mono',consolas,'Courier New',monospace\"></pre>\n"
      ],
      "text/plain": []
     },
     "metadata": {},
     "output_type": "display_data"
    },
    {
     "data": {
      "text/html": [
       "<pre style=\"white-space:pre;overflow-x:auto;line-height:normal;font-family:Menlo,'DejaVu Sans Mono',consolas,'Courier New',monospace\">\n",
       "</pre>\n"
      ],
      "text/plain": [
       "\n"
      ]
     },
     "metadata": {},
     "output_type": "display_data"
    },
    {
     "data": {
      "application/vnd.jupyter.widget-view+json": {
       "model_id": "273eb13800354e64ac45d977614de3e1",
       "version_major": 2,
       "version_minor": 0
      },
      "text/plain": [
       "Map:   0%|          | 0/30 [00:00<?, ? examples/s]"
      ]
     },
     "metadata": {},
     "output_type": "display_data"
    },
    {
     "name": "stdout",
     "output_type": "stream",
     "text": [
      "accuracy: 0.7\n",
      "mse: 1.5666666666666667\n",
      "mae: 0.5666666666666667\n"
     ]
    },
    {
     "data": {
      "text/html": [
       "<div>\n",
       "<style scoped>\n",
       "    .dataframe tbody tr th:only-of-type {\n",
       "        vertical-align: middle;\n",
       "    }\n",
       "\n",
       "    .dataframe tbody tr th {\n",
       "        vertical-align: top;\n",
       "    }\n",
       "\n",
       "    .dataframe thead th {\n",
       "        text-align: right;\n",
       "    }\n",
       "</style>\n",
       "<table border=\"1\" class=\"dataframe\">\n",
       "  <thead>\n",
       "    <tr style=\"text-align: right;\">\n",
       "      <th></th>\n",
       "      <th>input</th>\n",
       "      <th>reference</th>\n",
       "      <th>prediction</th>\n",
       "    </tr>\n",
       "  </thead>\n",
       "  <tbody>\n",
       "    <tr>\n",
       "      <th>0</th>\n",
       "      <td>Stayed at the Wm Penn down the street for a we...</td>\n",
       "      <td>5</td>\n",
       "      <td>4</td>\n",
       "    </tr>\n",
       "    <tr>\n",
       "      <th>1</th>\n",
       "      <td>We tried out the lunch specials and found them...</td>\n",
       "      <td>4</td>\n",
       "      <td>4</td>\n",
       "    </tr>\n",
       "    <tr>\n",
       "      <th>2</th>\n",
       "      <td>Should have known better than to eat in a plac...</td>\n",
       "      <td>1</td>\n",
       "      <td>2</td>\n",
       "    </tr>\n",
       "    <tr>\n",
       "      <th>3</th>\n",
       "      <td>This place has sure changed...and not for the ...</td>\n",
       "      <td>2</td>\n",
       "      <td>2</td>\n",
       "    </tr>\n",
       "    <tr>\n",
       "      <th>4</th>\n",
       "      <td>I've been bringing my son to the owner Michael...</td>\n",
       "      <td>5</td>\n",
       "      <td>5</td>\n",
       "    </tr>\n",
       "    <tr>\n",
       "      <th>5</th>\n",
       "      <td>The trip to the location takes two busses and ...</td>\n",
       "      <td>1</td>\n",
       "      <td>1</td>\n",
       "    </tr>\n",
       "    <tr>\n",
       "      <th>6</th>\n",
       "      <td>This restaurant was suggested to me by a frien...</td>\n",
       "      <td>4</td>\n",
       "      <td>0</td>\n",
       "    </tr>\n",
       "    <tr>\n",
       "      <th>7</th>\n",
       "      <td>This place is unique because you are sitting o...</td>\n",
       "      <td>3</td>\n",
       "      <td>3</td>\n",
       "    </tr>\n",
       "    <tr>\n",
       "      <th>8</th>\n",
       "      <td>Whew, $10 for a whiskey ginger ale and $18 for...</td>\n",
       "      <td>3</td>\n",
       "      <td>3</td>\n",
       "    </tr>\n",
       "    <tr>\n",
       "      <th>9</th>\n",
       "      <td>Loove me some Pei Wei! Boyfriend isn't a fan, ...</td>\n",
       "      <td>4</td>\n",
       "      <td>5</td>\n",
       "    </tr>\n",
       "    <tr>\n",
       "      <th>10</th>\n",
       "      <td>I have been looking for a perfect Thai food re...</td>\n",
       "      <td>5</td>\n",
       "      <td>5</td>\n",
       "    </tr>\n",
       "    <tr>\n",
       "      <th>11</th>\n",
       "      <td>This restaurant has a nice classic American de...</td>\n",
       "      <td>4</td>\n",
       "      <td>0</td>\n",
       "    </tr>\n",
       "    <tr>\n",
       "      <th>12</th>\n",
       "      <td>DH was getting pizza at #1 Brothers so I origi...</td>\n",
       "      <td>4</td>\n",
       "      <td>4</td>\n",
       "    </tr>\n",
       "    <tr>\n",
       "      <th>13</th>\n",
       "      <td>A EVITER !\\n\\nNous avons attendu 2h45 pour avo...</td>\n",
       "      <td>1</td>\n",
       "      <td>1</td>\n",
       "    </tr>\n",
       "    <tr>\n",
       "      <th>14</th>\n",
       "      <td>DO NOT ORDER FROM VITACOST!!!\\n\\nI have never ...</td>\n",
       "      <td>1</td>\n",
       "      <td>1</td>\n",
       "    </tr>\n",
       "    <tr>\n",
       "      <th>15</th>\n",
       "      <td>Went here today to get some sushi grade salmon...</td>\n",
       "      <td>4</td>\n",
       "      <td>5</td>\n",
       "    </tr>\n",
       "    <tr>\n",
       "      <th>16</th>\n",
       "      <td>Lots of hands on stuff to do and explore. My f...</td>\n",
       "      <td>4</td>\n",
       "      <td>4</td>\n",
       "    </tr>\n",
       "    <tr>\n",
       "      <th>17</th>\n",
       "      <td>I just started working at a corporate office i...</td>\n",
       "      <td>2</td>\n",
       "      <td>5</td>\n",
       "    </tr>\n",
       "    <tr>\n",
       "      <th>18</th>\n",
       "      <td>Went to this place and it is the bomb. I had s...</td>\n",
       "      <td>5</td>\n",
       "      <td>5</td>\n",
       "    </tr>\n",
       "    <tr>\n",
       "      <th>19</th>\n",
       "      <td>I was never really a fan of Hamburgers so my r...</td>\n",
       "      <td>4</td>\n",
       "      <td>4</td>\n",
       "    </tr>\n",
       "    <tr>\n",
       "      <th>20</th>\n",
       "      <td>Just opened and boy is the pizza great.  A awe...</td>\n",
       "      <td>4</td>\n",
       "      <td>5</td>\n",
       "    </tr>\n",
       "    <tr>\n",
       "      <th>21</th>\n",
       "      <td>They do not have their own bathroom. I came he...</td>\n",
       "      <td>2</td>\n",
       "      <td>2</td>\n",
       "    </tr>\n",
       "    <tr>\n",
       "      <th>22</th>\n",
       "      <td>so far, this is the most deceptive yelp rating...</td>\n",
       "      <td>2</td>\n",
       "      <td>1</td>\n",
       "    </tr>\n",
       "    <tr>\n",
       "      <th>23</th>\n",
       "      <td>Pretty okay pizza.  Standard so-so Pittsburgh ...</td>\n",
       "      <td>2</td>\n",
       "      <td>2</td>\n",
       "    </tr>\n",
       "    <tr>\n",
       "      <th>24</th>\n",
       "      <td>Amazing atmosphere, great service, fantastic d...</td>\n",
       "      <td>5</td>\n",
       "      <td>5</td>\n",
       "    </tr>\n",
       "    <tr>\n",
       "      <th>25</th>\n",
       "      <td>Tried Envy based on the ratings that people le...</td>\n",
       "      <td>2</td>\n",
       "      <td>2</td>\n",
       "    </tr>\n",
       "    <tr>\n",
       "      <th>26</th>\n",
       "      <td>Just got back from a stay at the Phoenician.  ...</td>\n",
       "      <td>2</td>\n",
       "      <td>2</td>\n",
       "    </tr>\n",
       "    <tr>\n",
       "      <th>27</th>\n",
       "      <td>I heard mixed reviews about Lure. We decided t...</td>\n",
       "      <td>5</td>\n",
       "      <td>5</td>\n",
       "    </tr>\n",
       "    <tr>\n",
       "      <th>28</th>\n",
       "      <td>Great sandwiches! the bread was superb. I had ...</td>\n",
       "      <td>4</td>\n",
       "      <td>4</td>\n",
       "    </tr>\n",
       "    <tr>\n",
       "      <th>29</th>\n",
       "      <td>I was very disappointed with my meal here. It ...</td>\n",
       "      <td>2</td>\n",
       "      <td>2</td>\n",
       "    </tr>\n",
       "  </tbody>\n",
       "</table>\n",
       "</div>"
      ],
      "text/plain": [
       "                                                input  reference  prediction\n",
       "0   Stayed at the Wm Penn down the street for a we...          5           4\n",
       "1   We tried out the lunch specials and found them...          4           4\n",
       "2   Should have known better than to eat in a plac...          1           2\n",
       "3   This place has sure changed...and not for the ...          2           2\n",
       "4   I've been bringing my son to the owner Michael...          5           5\n",
       "5   The trip to the location takes two busses and ...          1           1\n",
       "6   This restaurant was suggested to me by a frien...          4           0\n",
       "7   This place is unique because you are sitting o...          3           3\n",
       "8   Whew, $10 for a whiskey ginger ale and $18 for...          3           3\n",
       "9   Loove me some Pei Wei! Boyfriend isn't a fan, ...          4           5\n",
       "10  I have been looking for a perfect Thai food re...          5           5\n",
       "11  This restaurant has a nice classic American de...          4           0\n",
       "12  DH was getting pizza at #1 Brothers so I origi...          4           4\n",
       "13  A EVITER !\\n\\nNous avons attendu 2h45 pour avo...          1           1\n",
       "14  DO NOT ORDER FROM VITACOST!!!\\n\\nI have never ...          1           1\n",
       "15  Went here today to get some sushi grade salmon...          4           5\n",
       "16  Lots of hands on stuff to do and explore. My f...          4           4\n",
       "17  I just started working at a corporate office i...          2           5\n",
       "18  Went to this place and it is the bomb. I had s...          5           5\n",
       "19  I was never really a fan of Hamburgers so my r...          4           4\n",
       "20  Just opened and boy is the pizza great.  A awe...          4           5\n",
       "21  They do not have their own bathroom. I came he...          2           2\n",
       "22  so far, this is the most deceptive yelp rating...          2           1\n",
       "23  Pretty okay pizza.  Standard so-so Pittsburgh ...          2           2\n",
       "24  Amazing atmosphere, great service, fantastic d...          5           5\n",
       "25  Tried Envy based on the ratings that people le...          2           2\n",
       "26  Just got back from a stay at the Phoenician.  ...          2           2\n",
       "27  I heard mixed reviews about Lure. We decided t...          5           5\n",
       "28  Great sandwiches! the bread was superb. I had ...          4           4\n",
       "29  I was very disappointed with my meal here. It ...          2           2"
      ]
     },
     "execution_count": 7,
     "metadata": {},
     "output_type": "execute_result"
    }
   ],
   "source": [
    "clear_output(wait=True)\n",
    "\n",
    "eval3 = fastrepl.Evaluator(\n",
    "    pipeline=[\n",
    "        fastrepl.LLMGradingHeadCOT(\n",
    "            model=\"gpt-3.5-turbo\",\n",
    "            context=\"You will get a input text from Yelp review. Grade user's satisfaction from 1 to 5.\",\n",
    "            number_from=1,\n",
    "            number_to=5,\n",
    "        )\n",
    "    ]\n",
    ")\n",
    "\n",
    "\n",
    "def to_int(example):\n",
    "    if example[\"prediction\"] is None:\n",
    "        example[\"prediction\"] = 0\n",
    "    example[\"prediction\"] = int(example[\"prediction\"])\n",
    "    return example\n",
    "\n",
    "\n",
    "result3 = fastrepl.LocalRunner(evaluator=eval3, dataset=dataset).run()\n",
    "result3 = result3.map(to_int)\n",
    "\n",
    "print_metric(\"accuracy\", result3[\"prediction\"], result3[\"reference\"])\n",
    "print_metric(\"mse\", result3[\"prediction\"], result3[\"reference\"])\n",
    "print_metric(\"mae\", result3[\"prediction\"], result3[\"reference\"])\n",
    "\n",
    "result3.to_pandas()"
   ]
  }
 ],
 "metadata": {
  "kernelspec": {
   "display_name": ".venv",
   "language": "python",
   "name": "python3"
  },
  "language_info": {
   "codemirror_mode": {
    "name": "ipython",
    "version": 3
   },
   "file_extension": ".py",
   "mimetype": "text/x-python",
   "name": "python",
   "nbconvert_exporter": "python",
   "pygments_lexer": "ipython3",
   "version": "3.11.3"
  },
  "orig_nbformat": 4
 },
 "nbformat": 4,
 "nbformat_minor": 2
}
