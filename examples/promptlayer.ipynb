{
 "cells": [
  {
   "cell_type": "code",
   "execution_count": null,
   "metadata": {},
   "outputs": [],
   "source": [
    "%pip install -qq promptlayer\n",
    "%env OPENAI_API_KEY=\n",
    "\n",
    "OPENAI_API_KEY=\"\"\n",
    "PL_API_KEY = \"\""
   ]
  },
  {
   "cell_type": "code",
   "execution_count": null,
   "metadata": {},
   "outputs": [],
   "source": [
    "import promptlayer\n",
    "\n",
    "promptlayer.api_key = PL_API_KEY\n",
    "\n",
    "openai = promptlayer.openai\n",
    "openai.api_key = OPENAI_API_KEY\n",
    "\n",
    "import fastrepl"
   ]
  },
  {
   "cell_type": "code",
   "execution_count": null,
   "metadata": {},
   "outputs": [],
   "source": [
    "evaluator = fastrepl.RAGEvaluator(\n",
    "    node=fastrepl.RAGAS(\n",
    "        model=\"gpt-3.5-turbo\",\n",
    "        metric=\"Faithfulness\",\n",
    "    ),\n",
    ")\n",
    "\n",
    "ds = fastrepl.Dataset.from_dict(\n",
    "    {\n",
    "        \"question\": [\"how to do great work?\"] * 2,\n",
    "        \"contexts\": [[\"There's no one simple way to do great work.\"]] * 2,\n",
    "        \"answer\": [\n",
    "            \"Just do it.\",\n",
    "            \"You shouldn't look for one-size-fits-all solutions.\",\n",
    "        ],\n",
    "    }\n",
    ")\n",
    "runner = fastrepl.local_runner(evaluator=evaluator, dataset=ds)\n",
    "result = runner.run()\n",
    "\n",
    "result[\"result\"]"
   ]
  },
  {
   "cell_type": "code",
   "execution_count": null,
   "metadata": {},
   "outputs": [],
   "source": [
    "pl_runner = fastrepl.pl_runner(evaluator=evaluator, api_key=PL_API_KEY)"
   ]
  },
  {
   "cell_type": "code",
   "execution_count": null,
   "metadata": {},
   "outputs": [],
   "source": [
    "def create_docs(url: str) -> list[str]:\n",
    "    from langchain.document_loaders import WebBaseLoader\n",
    "\n",
    "    loader = WebBaseLoader(url)\n",
    "    data = loader.load()\n",
    "\n",
    "    from langchain.text_splitter import RecursiveCharacterTextSplitter\n",
    "\n",
    "    splitter = RecursiveCharacterTextSplitter(chunk_size=500, chunk_overlap=100)\n",
    "    docs = splitter.split_documents(data)\n",
    "    return [doc.page_content for doc in docs[1:]]\n",
    "\n",
    "\n",
    "def create_collection(name: str, docs: list[str]):\n",
    "    import chromadb\n",
    "    from chromadb.utils import embedding_functions\n",
    "\n",
    "    client = chromadb.EphemeralClient()\n",
    "    collection = client.create_collection(\n",
    "        name=name,\n",
    "        get_or_create=True,\n",
    "        embedding_function=embedding_functions.OpenAIEmbeddingFunction(\n",
    "            api_key=OPENAI_API_KEY\n",
    "        ),\n",
    "    )\n",
    "\n",
    "    collection.add(documents=docs, ids=[str(i) for i in range(len(docs))])\n",
    "    return collection"
   ]
  },
  {
   "cell_type": "code",
   "execution_count": null,
   "metadata": {},
   "outputs": [],
   "source": [
    "from typing import List\n",
    "\n",
    "from chromadb import Collection\n",
    "\n",
    "\n",
    "class QA:\n",
    "    def __init__(self, collection: Collection) -> None:\n",
    "        self.collection = collection\n",
    "\n",
    "        self.tpl_name = \"simple-rag\"\n",
    "        tpl_dict = promptlayer.prompts.get(self.tpl_name, version=1)\n",
    "        self.system_tpl = tpl_dict[\"messages\"][0][\"prompt\"][\"template\"]\n",
    "        self.user_content_tpl = tpl_dict[\"messages\"][1][\"prompt\"][\"template\"]\n",
    "\n",
    "    def retrieve_docs(self, question: str) -> List[str]:\n",
    "        result = self.collection.query(query_texts=[question], n_results=1)\n",
    "        contexts = result[\"documents\"][0]\n",
    "        return contexts\n",
    "\n",
    "    def generate(self, question: str, contexts: List[str]) -> str:\n",
    "        model = \"gpt-3.5-turbo\"\n",
    "        messages = [\n",
    "            {\n",
    "                \"role\": \"system\",\n",
    "                \"content\": self.system_tpl.format(contexts=contexts),\n",
    "            },\n",
    "            {\n",
    "                \"role\": \"user\",\n",
    "                \"content\": self.user_content_tpl.format(question=question),\n",
    "            },\n",
    "        ]\n",
    "\n",
    "        response, request_id = openai.ChatCompletion.create(\n",
    "            model=model,\n",
    "            messages=messages,\n",
    "            return_pl_id=True,\n",
    "        )\n",
    "        answer = response.choices[0].message.content\n",
    "\n",
    "        promptlayer.track.prompt(\n",
    "            request_id=request_id,\n",
    "            prompt_name=self.tpl_name,\n",
    "            prompt_input_variables={\"question\": question, \"answer\": answer},\n",
    "        )\n",
    "\n",
    "        ds = fastrepl.Dataset.from_dict(\n",
    "            {\n",
    "                \"question\": [question],\n",
    "                \"contexts\": [contexts],\n",
    "                \"answer\": [answer],\n",
    "                \"request_id\": [request_id],\n",
    "            }\n",
    "        )\n",
    "        pl_runner.run(ds)  # differnt thread\n",
    "\n",
    "        return answer\n",
    "\n",
    "    def run(self, question: str) -> str:\n",
    "        contexts = self.retrieve_docs(question)\n",
    "        return self.generate(question, contexts)"
   ]
  },
  {
   "cell_type": "code",
   "execution_count": null,
   "metadata": {},
   "outputs": [],
   "source": [
    "docs = create_docs(\"http://paulgraham.com/greatwork.html\")\n",
    "collection = create_collection(\"how-to-do-great-work\", docs)\n",
    "\n",
    "qa = QA(collection)"
   ]
  },
  {
   "cell_type": "code",
   "execution_count": null,
   "metadata": {},
   "outputs": [],
   "source": [
    "qa.run(\"how to do great work?\")"
   ]
  },
  {
   "cell_type": "code",
   "execution_count": null,
   "metadata": {},
   "outputs": [],
   "source": [
    "from datasets import load_dataset\n",
    "\n",
    "ds = load_dataset(\"repllabs/questions_how_to_do_great_work\", split=\"processed\")\n",
    "ds = ds.remove_columns([\"model\"])\n",
    "ds = ds.shuffle(seed=12)\n",
    "ds = ds.select(range(10))\n",
    "ds = fastrepl.Dataset.from_hf(ds)\n",
    "ds"
   ]
  },
  {
   "cell_type": "code",
   "execution_count": null,
   "metadata": {},
   "outputs": [],
   "source": [
    "questions = ds[\"question\"]\n",
    "\n",
    "fastrepl.local_runner(fn=qa.run).run(args_list=[(q,) for q in questions])"
   ]
  }
 ],
 "metadata": {
  "kernelspec": {
   "display_name": ".venv",
   "language": "python",
   "name": "python3"
  },
  "language_info": {
   "codemirror_mode": {
    "name": "ipython",
    "version": 3
   },
   "file_extension": ".py",
   "mimetype": "text/x-python",
   "name": "python",
   "nbconvert_exporter": "python",
   "pygments_lexer": "ipython3",
   "version": "3.11.3"
  }
 },
 "nbformat": 4,
 "nbformat_minor": 2
}
