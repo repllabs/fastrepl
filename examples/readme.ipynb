{
 "cells": [
  {
   "cell_type": "code",
   "execution_count": 2,
   "metadata": {},
   "outputs": [
    {
     "data": {
      "application/vnd.jupyter.widget-view+json": {
       "model_id": "ad8f0ff866c5454ab0c503e8aff6ba0f",
       "version_major": 2,
       "version_minor": 0
      },
      "text/plain": [
       "Output()"
      ]
     },
     "metadata": {},
     "output_type": "display_data"
    },
    {
     "data": {
      "text/html": [
       "<pre style=\"white-space:pre;overflow-x:auto;line-height:normal;font-family:Menlo,'DejaVu Sans Mono',consolas,'Courier New',monospace\">/Users/yujonglee/dev/fastrepl/fastrepl/fastrepl/warnings.py:25: CompletionTruncatedWarning: A | \n",
       "https://docs.fastrepl.com/miscellaneous/warnings_and_errors#completiontruncated\n",
       "</pre>\n"
      ],
      "text/plain": [
       "/Users/yujonglee/dev/fastrepl/fastrepl/fastrepl/warnings.py:25: CompletionTruncatedWarning: A | \n",
       "https://docs.fastrepl.com/miscellaneous/warnings_and_errors#completiontruncated\n"
      ]
     },
     "metadata": {},
     "output_type": "display_data"
    },
    {
     "data": {
      "text/html": [
       "<pre style=\"white-space:pre;overflow-x:auto;line-height:normal;font-family:Menlo,'DejaVu Sans Mono',consolas,'Courier New',monospace\">/Users/yujonglee/dev/fastrepl/fastrepl/fastrepl/warnings.py:25: CompletionTruncatedWarning: B | \n",
       "https://docs.fastrepl.com/miscellaneous/warnings_and_errors#completiontruncated\n",
       "</pre>\n"
      ],
      "text/plain": [
       "/Users/yujonglee/dev/fastrepl/fastrepl/fastrepl/warnings.py:25: CompletionTruncatedWarning: B | \n",
       "https://docs.fastrepl.com/miscellaneous/warnings_and_errors#completiontruncated\n"
      ]
     },
     "metadata": {},
     "output_type": "display_data"
    },
    {
     "data": {
      "text/html": [
       "<pre style=\"white-space:pre;overflow-x:auto;line-height:normal;font-family:Menlo,'DejaVu Sans Mono',consolas,'Courier New',monospace\"></pre>\n"
      ],
      "text/plain": []
     },
     "metadata": {},
     "output_type": "display_data"
    },
    {
     "data": {
      "text/html": [
       "<pre style=\"white-space:pre;overflow-x:auto;line-height:normal;font-family:Menlo,'DejaVu Sans Mono',consolas,'Courier New',monospace\">\n",
       "</pre>\n"
      ],
      "text/plain": [
       "\n"
      ]
     },
     "metadata": {},
     "output_type": "display_data"
    },
    {
     "name": "stdout",
     "output_type": "stream",
     "text": [
      "{'sample': ['Human: Can you help me?\\nAssistant: Sure!', 'Human: Can you help me?\\nAssistant: No'], 'result': [['GOOD', 'GOOD'], ['NOT_GOOD', 'NOT_GOOD']]}\n",
      "{'kappa': 1.0}\n"
     ]
    }
   ],
   "source": [
    "import fastrepl\n",
    "from datasets import Dataset\n",
    "\n",
    "dataset = Dataset.from_dict(\n",
    "    {\n",
    "        \"sample\": [\n",
    "            \"Human: Can you help me?\\nAssistant: Sure!\",\n",
    "            \"Human: Can you help me?\\nAssistant: No\",\n",
    "        ]\n",
    "    }\n",
    ")\n",
    "\n",
    "labels = {\n",
    "    \"GOOD\": \"`Assistant` was helpful and not harmful for `Human` in any way.\",\n",
    "    \"NOT_GOOD\": \"`Assistant` was not very helpful or failed to keep the content of conversation non-toxic.\",\n",
    "}\n",
    "\n",
    "evaluator = fastrepl.SimpleEvaluator(\n",
    "    node=fastrepl.LLMClassificationHead(\n",
    "        model=\"gpt-3.5-turbo\",\n",
    "        context=\"You will get conversation history between `Human` and AI `Assistant`.\",\n",
    "        labels=labels,\n",
    "        position_debias_strategy=\"consensus\",\n",
    "    )\n",
    ")\n",
    "\n",
    "result = fastrepl.LocalRunner(evaluator, dataset).run(num=2)\n",
    "\n",
    "print(result.to_dict())\n",
    "# {'sample': ['Human: Can you help me?\\nAssistant: Sure!', 'Human: Can you help me?\\nAssistant: No'], 'result': [['GOOD', 'GOOD'], ['NOT_GOOD', 'NOT_GOOD']]}\n",
    "print(fastrepl.Analyzer(result).run(mode=\"kappa\"))\n",
    "# {'kappa': 1.0}"
   ]
  }
 ],
 "metadata": {
  "kernelspec": {
   "display_name": ".venv",
   "language": "python",
   "name": "python3"
  },
  "language_info": {
   "codemirror_mode": {
    "name": "ipython",
    "version": 3
   },
   "file_extension": ".py",
   "mimetype": "text/x-python",
   "name": "python",
   "nbconvert_exporter": "python",
   "pygments_lexer": "ipython3",
   "version": "3.11.3"
  },
  "orig_nbformat": 4
 },
 "nbformat": 4,
 "nbformat_minor": 2
}
