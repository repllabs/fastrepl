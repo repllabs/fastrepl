{
 "cells": [
  {
   "cell_type": "markdown",
   "metadata": {},
   "source": [
    "# Quickstart\n",
    "\n",
    "## Installation"
   ]
  },
  {
   "cell_type": "code",
   "execution_count": null,
   "metadata": {},
   "outputs": [],
   "source": [
    "%pip install \"fastrepl==0.0.7\""
   ]
  },
  {
   "cell_type": "markdown",
   "metadata": {},
   "source": [
    "You can find all releases [here](https://pypi.org/project/fastrepl).\n",
    "\n",
    "## Setup FastREPL"
   ]
  },
  {
   "cell_type": "code",
   "execution_count": 1,
   "metadata": {},
   "outputs": [],
   "source": [
    "# When using it in a script\n",
    "import fastrepl\n",
    "\n",
    "# When using it in a notebook\n",
    "import fastrepl.repl as fastrepl"
   ]
  },
  {
   "cell_type": "markdown",
   "metadata": {},
   "source": [
    "## Prepare Dataset\n",
    "\n",
    "We will use [daily_dialog](https://huggingface.co/datasets/daily_dialog) from Huggingface."
   ]
  },
  {
   "cell_type": "code",
   "execution_count": 5,
   "metadata": {},
   "outputs": [
    {
     "data": {
      "application/vnd.jupyter.widget-view+json": {
       "model_id": "c448cebc9c0f4657bde337660617b940",
       "version_major": 2,
       "version_minor": 0
      },
      "text/plain": [
       "Map:   0%|          | 0/30 [00:00<?, ? examples/s]"
      ]
     },
     "metadata": {},
     "output_type": "display_data"
    },
    {
     "data": {
      "text/plain": [
       "Dataset({\n",
       "    features: ['sample'],\n",
       "    num_rows: 30\n",
       "})"
      ]
     },
     "execution_count": 5,
     "metadata": {},
     "output_type": "execute_result"
    }
   ],
   "source": [
    "import re\n",
    "from datasets import load_dataset\n",
    "\n",
    "ds = load_dataset(\"daily_dialog\", split=\"test\")\n",
    "ds = ds.shuffle(4)\n",
    "ds = ds.select(range(30))\n",
    "\n",
    "\n",
    "def clean(text):\n",
    "    return re.sub(r\"\\s+([,.'!?])\", r\"\\1\", text.strip())\n",
    "\n",
    "\n",
    "def get_input(row):\n",
    "    msgs = [clean(msg) for msg in row[\"dialog\"]]\n",
    "    row[\"sample\"] = \"\\n\".join(msgs)  # `SimpleEvaluator` expect `sample` column\n",
    "\n",
    "    return row\n",
    "\n",
    "\n",
    "ds = ds.map(get_input, remove_columns=[\"dialog\", \"act\", \"emotion\"])\n",
    "ds"
   ]
  },
  {
   "cell_type": "markdown",
   "metadata": {},
   "source": [
    "## Define Evaluator\n",
    "\n",
    "Here, we are doing simple classifiction, but there are two interesting points.\n",
    "\n",
    "1. You can pass nearly any model for evaluation. (Thanks to [LiteLLM](https://github.com/BerriAI/litellm)).\n",
    "2. **`fastrepl` enhances accuracy by reducing [bias](/guides/dealing_with_bias.md)**. `position_debias_strategy` is one example, which ensures that the order of labels doesn't affect the outcome."
   ]
  },
  {
   "cell_type": "code",
   "execution_count": 6,
   "metadata": {},
   "outputs": [],
   "source": [
    "evaluator = fastrepl.SimpleEvaluator(\n",
    "    node=fastrepl.LLMClassificationHead(\n",
    "        model=\"gpt-3.5-turbo\",\n",
    "        context=\"You will receive casual conversation between two people.\",\n",
    "        labels={\n",
    "            \"FUN\": \"at least one of the two people try to be funny and entertain.\",\n",
    "            \"NOT_FUN\": \"given conversation lacks humor or entertainment value.\",\n",
    "        },\n",
    "        position_debias_strategy=\"consensus\",\n",
    "    ),\n",
    ")"
   ]
  },
  {
   "cell_type": "markdown",
   "metadata": {},
   "source": [
    "## Run Evaluator\n",
    "\n",
    "Here are some notes about running the evaluator:\n",
    "\n",
    "1. `ThreadPool` is used to make it faster (controlled by the `NUM_THREADS` [environment variable](/getting_started/env.md)).\n",
    "2. Any errors from different LLM providers are properly handled and retried with backoff if necessary.\n",
    "3. Since we passed `num=2` to `run()`, it will execute same evaluation twice, and return two results. If there are high inconsistency between the two, you'll see [InconsistentPredictionWarning](/miscellaneous/warnings_and_errors)."
   ]
  },
  {
   "cell_type": "code",
   "execution_count": 7,
   "metadata": {},
   "outputs": [
    {
     "data": {
      "application/vnd.jupyter.widget-view+json": {
       "model_id": "bbda7133a3b4488985dbb2de666e8d28",
       "version_major": 2,
       "version_minor": 0
      },
      "text/plain": [
       "Output()"
      ]
     },
     "metadata": {},
     "output_type": "display_data"
    },
    {
     "data": {
      "text/html": [
       "<pre style=\"white-space:pre;overflow-x:auto;line-height:normal;font-family:Menlo,'DejaVu Sans Mono',consolas,'Courier New',monospace\">/Users/yujonglee/dev/fastrepl/fastrepl/fastrepl/warnings.py:25: CompletionTruncatedWarning: B | \n",
       "https://docs.fastrepl.com/miscellaneous/warnings_and_errors#completiontruncated\n",
       "</pre>\n"
      ],
      "text/plain": [
       "/Users/yujonglee/dev/fastrepl/fastrepl/fastrepl/warnings.py:25: CompletionTruncatedWarning: B | \n",
       "https://docs.fastrepl.com/miscellaneous/warnings_and_errors#completiontruncated\n"
      ]
     },
     "metadata": {},
     "output_type": "display_data"
    },
    {
     "data": {
      "text/html": [
       "<pre style=\"white-space:pre;overflow-x:auto;line-height:normal;font-family:Menlo,'DejaVu Sans Mono',consolas,'Courier New',monospace\">/Users/yujonglee/dev/fastrepl/fastrepl/fastrepl/warnings.py:25: CompletionTruncatedWarning: A | \n",
       "https://docs.fastrepl.com/miscellaneous/warnings_and_errors#completiontruncated\n",
       "</pre>\n"
      ],
      "text/plain": [
       "/Users/yujonglee/dev/fastrepl/fastrepl/fastrepl/warnings.py:25: CompletionTruncatedWarning: A | \n",
       "https://docs.fastrepl.com/miscellaneous/warnings_and_errors#completiontruncated\n"
      ]
     },
     "metadata": {},
     "output_type": "display_data"
    },
    {
     "data": {
      "text/html": [
       "<pre style=\"white-space:pre;overflow-x:auto;line-height:normal;font-family:Menlo,'DejaVu Sans Mono',consolas,'Courier New',monospace\"></pre>\n"
      ],
      "text/plain": []
     },
     "metadata": {},
     "output_type": "display_data"
    },
    {
     "data": {
      "text/html": [
       "<pre style=\"white-space:pre;overflow-x:auto;line-height:normal;font-family:Menlo,'DejaVu Sans Mono',consolas,'Courier New',monospace\">\n",
       "</pre>\n"
      ],
      "text/plain": [
       "\n"
      ]
     },
     "metadata": {},
     "output_type": "display_data"
    },
    {
     "data": {
      "text/plain": [
       "Dataset({\n",
       "    features: ['sample', 'results'],\n",
       "    num_rows: 30\n",
       "})"
      ]
     },
     "execution_count": 7,
     "metadata": {},
     "output_type": "execute_result"
    }
   ],
   "source": [
    "result = fastrepl.LocalRunner(evaluator=evaluator, dataset=ds).run(num=2)\n",
    "result"
   ]
  },
  {
   "cell_type": "code",
   "execution_count": 8,
   "metadata": {},
   "outputs": [
    {
     "data": {
      "text/html": [
       "<div>\n",
       "<style scoped>\n",
       "    .dataframe tbody tr th:only-of-type {\n",
       "        vertical-align: middle;\n",
       "    }\n",
       "\n",
       "    .dataframe tbody tr th {\n",
       "        vertical-align: top;\n",
       "    }\n",
       "\n",
       "    .dataframe thead th {\n",
       "        text-align: right;\n",
       "    }\n",
       "</style>\n",
       "<table border=\"1\" class=\"dataframe\">\n",
       "  <thead>\n",
       "    <tr style=\"text-align: right;\">\n",
       "      <th></th>\n",
       "      <th>sample</th>\n",
       "      <th>results</th>\n",
       "    </tr>\n",
       "  </thead>\n",
       "  <tbody>\n",
       "    <tr>\n",
       "      <th>0</th>\n",
       "      <td>Would you like to take a look at the menu, sir...</td>\n",
       "      <td>[FUN, FUN]</td>\n",
       "    </tr>\n",
       "    <tr>\n",
       "      <th>1</th>\n",
       "      <td>Help! Help!\\nWhat's the matter?</td>\n",
       "      <td>[NOT_FUN, NOT_FUN]</td>\n",
       "    </tr>\n",
       "    <tr>\n",
       "      <th>2</th>\n",
       "      <td>Whatever we do, we should do it above board.\\n...</td>\n",
       "      <td>[FUN, FUN]</td>\n",
       "    </tr>\n",
       "    <tr>\n",
       "      <th>3</th>\n",
       "      <td>May I see your passport, please?\\nCertainly. H...</td>\n",
       "      <td>[NOT_FUN, NOT_FUN]</td>\n",
       "    </tr>\n",
       "    <tr>\n",
       "      <th>4</th>\n",
       "      <td>We're thinking about going to America.\\nHave y...</td>\n",
       "      <td>[NOT_FUN, NOT_FUN]</td>\n",
       "    </tr>\n",
       "    <tr>\n",
       "      <th>5</th>\n",
       "      <td>Do you believe in UFOs?\\nOf course, they are o...</td>\n",
       "      <td>[FUN, FUN]</td>\n",
       "    </tr>\n",
       "    <tr>\n",
       "      <th>6</th>\n",
       "      <td>What do you think about the equipment in our c...</td>\n",
       "      <td>[NOT_FUN, NOT_FUN]</td>\n",
       "    </tr>\n",
       "    <tr>\n",
       "      <th>7</th>\n",
       "      <td>How was your business trip?\\nGreat - they wine...</td>\n",
       "      <td>[FUN, FUN]</td>\n",
       "    </tr>\n",
       "    <tr>\n",
       "      <th>8</th>\n",
       "      <td>Hello, Parker. How ’ s everything?\\nCan ’ t co...</td>\n",
       "      <td>[None, NOT_FUN]</td>\n",
       "    </tr>\n",
       "    <tr>\n",
       "      <th>9</th>\n",
       "      <td>Our toner cartridges are already out of ink......</td>\n",
       "      <td>[NOT_FUN, NOT_FUN]</td>\n",
       "    </tr>\n",
       "    <tr>\n",
       "      <th>10</th>\n",
       "      <td>Unfortunately, according to our regulations I ...</td>\n",
       "      <td>[NOT_FUN, NOT_FUN]</td>\n",
       "    </tr>\n",
       "    <tr>\n",
       "      <th>11</th>\n",
       "      <td>Good evening. Welcome to Cherry's. Do you have...</td>\n",
       "      <td>[NOT_FUN, NOT_FUN]</td>\n",
       "    </tr>\n",
       "    <tr>\n",
       "      <th>12</th>\n",
       "      <td>Excuse me. I am looking for a book called Litt...</td>\n",
       "      <td>[NOT_FUN, NOT_FUN]</td>\n",
       "    </tr>\n",
       "    <tr>\n",
       "      <th>13</th>\n",
       "      <td>I'm hungry.\\nSo am I.\\nWhere should we go eat ...</td>\n",
       "      <td>[FUN, FUN]</td>\n",
       "    </tr>\n",
       "    <tr>\n",
       "      <th>14</th>\n",
       "      <td>Are you ready to go to the mall?\\nYeah. Dig my...</td>\n",
       "      <td>[FUN, FUN]</td>\n",
       "    </tr>\n",
       "    <tr>\n",
       "      <th>15</th>\n",
       "      <td>This looks like a very nice house.\\nYou know, ...</td>\n",
       "      <td>[None, FUN]</td>\n",
       "    </tr>\n",
       "    <tr>\n",
       "      <th>16</th>\n",
       "      <td>Have you decided what you ’ re going to do dur...</td>\n",
       "      <td>[FUN, FUN]</td>\n",
       "    </tr>\n",
       "    <tr>\n",
       "      <th>17</th>\n",
       "      <td>Is there anything else, apart from the Credit ...</td>\n",
       "      <td>[NOT_FUN, NOT_FUN]</td>\n",
       "    </tr>\n",
       "    <tr>\n",
       "      <th>18</th>\n",
       "      <td>Hello. Can you tell me what the procedures of ...</td>\n",
       "      <td>[NOT_FUN, NOT_FUN]</td>\n",
       "    </tr>\n",
       "    <tr>\n",
       "      <th>19</th>\n",
       "      <td>I'm a little nervous.\\nDon't worry. You'll be ...</td>\n",
       "      <td>[NOT_FUN, None]</td>\n",
       "    </tr>\n",
       "    <tr>\n",
       "      <th>20</th>\n",
       "      <td>I ’ m pretty sure that Jim will turn out to be...</td>\n",
       "      <td>[NOT_FUN, NOT_FUN]</td>\n",
       "    </tr>\n",
       "    <tr>\n",
       "      <th>21</th>\n",
       "      <td>I am so busy today.\\nCan I help you?\\nI ’ m no...</td>\n",
       "      <td>[FUN, FUN]</td>\n",
       "    </tr>\n",
       "    <tr>\n",
       "      <th>22</th>\n",
       "      <td>What's your favorite book?\\nIt's Gone With the...</td>\n",
       "      <td>[FUN, FUN]</td>\n",
       "    </tr>\n",
       "    <tr>\n",
       "      <th>23</th>\n",
       "      <td>Good morning, Sir. Where are you going?\\nI ’ m...</td>\n",
       "      <td>[FUN, FUN]</td>\n",
       "    </tr>\n",
       "    <tr>\n",
       "      <th>24</th>\n",
       "      <td>I have puzzled my brain about how to teach the...</td>\n",
       "      <td>[FUN, FUN]</td>\n",
       "    </tr>\n",
       "    <tr>\n",
       "      <th>25</th>\n",
       "      <td>Can I have a look at that digital camera pleas...</td>\n",
       "      <td>[NOT_FUN, NOT_FUN]</td>\n",
       "    </tr>\n",
       "    <tr>\n",
       "      <th>26</th>\n",
       "      <td>Hello sir, how may I help you?\\nI would like t...</td>\n",
       "      <td>[FUN, FUN]</td>\n",
       "    </tr>\n",
       "    <tr>\n",
       "      <th>27</th>\n",
       "      <td>You've heard of Bruce Jenner, haven't you?\\nHe...</td>\n",
       "      <td>[FUN, FUN]</td>\n",
       "    </tr>\n",
       "    <tr>\n",
       "      <th>28</th>\n",
       "      <td>How do you celebrate national day in your coun...</td>\n",
       "      <td>[None, None]</td>\n",
       "    </tr>\n",
       "    <tr>\n",
       "      <th>29</th>\n",
       "      <td>Excuse me, I'd like to ask you a few questions...</td>\n",
       "      <td>[FUN, None]</td>\n",
       "    </tr>\n",
       "  </tbody>\n",
       "</table>\n",
       "</div>"
      ],
      "text/plain": [
       "                                               sample             results\n",
       "0   Would you like to take a look at the menu, sir...          [FUN, FUN]\n",
       "1                     Help! Help!\\nWhat's the matter?  [NOT_FUN, NOT_FUN]\n",
       "2   Whatever we do, we should do it above board.\\n...          [FUN, FUN]\n",
       "3   May I see your passport, please?\\nCertainly. H...  [NOT_FUN, NOT_FUN]\n",
       "4   We're thinking about going to America.\\nHave y...  [NOT_FUN, NOT_FUN]\n",
       "5   Do you believe in UFOs?\\nOf course, they are o...          [FUN, FUN]\n",
       "6   What do you think about the equipment in our c...  [NOT_FUN, NOT_FUN]\n",
       "7   How was your business trip?\\nGreat - they wine...          [FUN, FUN]\n",
       "8   Hello, Parker. How ’ s everything?\\nCan ’ t co...     [None, NOT_FUN]\n",
       "9   Our toner cartridges are already out of ink......  [NOT_FUN, NOT_FUN]\n",
       "10  Unfortunately, according to our regulations I ...  [NOT_FUN, NOT_FUN]\n",
       "11  Good evening. Welcome to Cherry's. Do you have...  [NOT_FUN, NOT_FUN]\n",
       "12  Excuse me. I am looking for a book called Litt...  [NOT_FUN, NOT_FUN]\n",
       "13  I'm hungry.\\nSo am I.\\nWhere should we go eat ...          [FUN, FUN]\n",
       "14  Are you ready to go to the mall?\\nYeah. Dig my...          [FUN, FUN]\n",
       "15  This looks like a very nice house.\\nYou know, ...         [None, FUN]\n",
       "16  Have you decided what you ’ re going to do dur...          [FUN, FUN]\n",
       "17  Is there anything else, apart from the Credit ...  [NOT_FUN, NOT_FUN]\n",
       "18  Hello. Can you tell me what the procedures of ...  [NOT_FUN, NOT_FUN]\n",
       "19  I'm a little nervous.\\nDon't worry. You'll be ...     [NOT_FUN, None]\n",
       "20  I ’ m pretty sure that Jim will turn out to be...  [NOT_FUN, NOT_FUN]\n",
       "21  I am so busy today.\\nCan I help you?\\nI ’ m no...          [FUN, FUN]\n",
       "22  What's your favorite book?\\nIt's Gone With the...          [FUN, FUN]\n",
       "23  Good morning, Sir. Where are you going?\\nI ’ m...          [FUN, FUN]\n",
       "24  I have puzzled my brain about how to teach the...          [FUN, FUN]\n",
       "25  Can I have a look at that digital camera pleas...  [NOT_FUN, NOT_FUN]\n",
       "26  Hello sir, how may I help you?\\nI would like t...          [FUN, FUN]\n",
       "27  You've heard of Bruce Jenner, haven't you?\\nHe...          [FUN, FUN]\n",
       "28  How do you celebrate national day in your coun...        [None, None]\n",
       "29  Excuse me, I'd like to ask you a few questions...         [FUN, None]"
      ]
     },
     "execution_count": 8,
     "metadata": {},
     "output_type": "execute_result"
    }
   ],
   "source": [
    "result.to_pandas()"
   ]
  },
  {
   "cell_type": "markdown",
   "metadata": {},
   "source": [
    "One interesting point to note is that, due to the `position_debias_strategy=\"consensus\"`, if the order of the labels affects the result, `fastrepl` will return `None`. We'll be returning more meaningful value in the later version of `fastrepl`."
   ]
  },
  {
   "cell_type": "code",
   "execution_count": 9,
   "metadata": {},
   "outputs": [
    {
     "name": "stdout",
     "output_type": "stream",
     "text": [
      "3\n",
      "3\n"
     ]
    }
   ],
   "source": [
    "first_result = [row[0] for row in result[\"results\"]]\n",
    "second_result = [row[1] for row in result[\"results\"]]\n",
    "\n",
    "print(first_result.count(None))\n",
    "print(second_result.count(None))"
   ]
  },
  {
   "cell_type": "markdown",
   "metadata": {},
   "source": [
    "Now we got some numbers."
   ]
  },
  {
   "cell_type": "code",
   "execution_count": 10,
   "metadata": {},
   "outputs": [
    {
     "name": "stdout",
     "output_type": "stream",
     "text": [
      "0.5185185185185185\n",
      "0.5185185185185185\n"
     ]
    }
   ],
   "source": [
    "def metric(result):\n",
    "    f = result.count(\"FUN\")\n",
    "    nf = result.count(\"NOT_FUN\")\n",
    "    return f / (f + nf)\n",
    "\n",
    "\n",
    "print(metric(first_result))\n",
    "print(metric(second_result))"
   ]
  }
 ],
 "metadata": {
  "kernelspec": {
   "display_name": ".venv",
   "language": "python",
   "name": "python3"
  },
  "language_info": {
   "codemirror_mode": {
    "name": "ipython",
    "version": 3
   },
   "file_extension": ".py",
   "mimetype": "text/x-python",
   "name": "python",
   "nbconvert_exporter": "python",
   "pygments_lexer": "ipython3",
   "version": "3.11.3"
  },
  "orig_nbformat": 4
 },
 "nbformat": 4,
 "nbformat_minor": 2
}
