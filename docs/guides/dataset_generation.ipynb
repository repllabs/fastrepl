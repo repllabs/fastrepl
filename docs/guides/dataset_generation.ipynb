{
 "cells": [
  {
   "cell_type": "markdown",
   "metadata": {},
   "source": [
    "# Dataset Genetation\n",
    "\n",
    "`fastrepl` provides a remote runner for dataset generation. It has few advantages:\n",
    "\n",
    "1. It use multiple LLMs and chunk size to generate diverse dataset.\n",
    "2. It use GPU to run other small models like Cross-Encoder, to filter out the results.\n",
    "3. Model weight and tokenizers are cached for faster cold start.\n",
    "4. Workload is distributed to auto-scaling multiple containers, so it can handle huge input source.\n",
    "\n",
    "Note that this feature is experimental and will be improved rapidly."
   ]
  },
  {
   "cell_type": "code",
   "execution_count": 4,
   "metadata": {},
   "outputs": [],
   "source": [
    "import fastrepl  # Need >=0.11.0 for dataset generation"
   ]
  },
  {
   "cell_type": "code",
   "execution_count": 6,
   "metadata": {},
   "outputs": [],
   "source": [
    "fastrepl.api_key = \"\"  # Reach out to `yujonglee at repllabs.ai` for api_key\n",
    "\n",
    "texts = [\n",
    "    \"How to do great work\",\n",
    "    \"The first step is to decide what to work on. The work you choose needs to have three qualities: it has to be something you have a natural aptitude for, that you have a deep interest in, and that offers scope to do great work\",\n",
    "    \"In practice you don't have to worry much about the third criterion. Ambitious people are if anything already too conservative about it. So all you need to do is find something you have an aptitude for and great interest in.\",\n",
    "    \"That sounds straightforward, but it's often quite difficult. When you're young you don't know what you're good at or what different kinds of work are like. Some kinds of work you end up doing may not even exist yet. So while some people know what they want to do at 14, most have to figure it out.\",\n",
    "]\n",
    "\n",
    "generator = fastrepl.QuestionGenerator(source=\"\\n\".join(texts))"
   ]
  },
  {
   "cell_type": "code",
   "execution_count": 7,
   "metadata": {},
   "outputs": [
    {
     "data": {
      "application/vnd.jupyter.widget-view+json": {
       "model_id": "3c144760c30d41159884f130c7216830",
       "version_major": 2,
       "version_minor": 0
      },
      "text/plain": [
       "Output()"
      ]
     },
     "metadata": {},
     "output_type": "display_data"
    },
    {
     "data": {
      "text/html": [
       "<pre style=\"white-space:pre;overflow-x:auto;line-height:normal;font-family:Menlo,'DejaVu Sans Mono',consolas,'Courier New',monospace\"></pre>\n"
      ],
      "text/plain": []
     },
     "metadata": {},
     "output_type": "display_data"
    },
    {
     "data": {
      "text/html": [
       "<pre style=\"white-space:pre;overflow-x:auto;line-height:normal;font-family:Menlo,'DejaVu Sans Mono',consolas,'Courier New',monospace\"><span style=\"color: #00d7af; text-decoration-color: #00d7af\">Interrupted!</span>\n",
       "<span style=\"color: #00d7af; text-decoration-color: #00d7af\">You can retrieve the job status with `</span><span style=\"color: #00d7af; text-decoration-color: #00d7af; font-weight: bold\">run(</span><span style=\"color: #00d7af; text-decoration-color: #00d7af\">job_id</span><span style=\"color: #00d7af; text-decoration-color: #00d7af\">=</span><span style=\"color: #00d7af; text-decoration-color: #00d7af\">fc</span><span style=\"color: #00d7af; text-decoration-color: #00d7af\">-9rsr4OF6gQ02eDFSAxvJKf</span><span style=\"color: #00d7af; text-decoration-color: #00d7af; font-weight: bold\">)</span><span style=\"color: #00d7af; text-decoration-color: #00d7af\">`</span>\n",
       "</pre>\n"
      ],
      "text/plain": [
       "\u001b[38;5;43mInterrupted!\u001b[0m\n",
       "\u001b[38;5;43mYou can retrieve the job status with `\u001b[0m\u001b[1;38;5;43mrun\u001b[0m\u001b[1;38;5;43m(\u001b[0m\u001b[38;5;43mjob_id\u001b[0m\u001b[38;5;43m=\u001b[0m\u001b[38;5;43mfc\u001b[0m\u001b[38;5;43m-9rsr4OF6gQ02eDFSAxvJKf\u001b[0m\u001b[1;38;5;43m)\u001b[0m\u001b[38;5;43m`\u001b[0m\n"
      ]
     },
     "metadata": {},
     "output_type": "display_data"
    }
   ],
   "source": [
    "# This can take a while. If you can't wait, interrupt the kernel. You can use `job_id` to retrieve the result\n",
    "# We don't support `local_runner` for `generator` at the moment\n",
    "ds = fastrepl.remote_runner(generator=generator).run()"
   ]
  },
  {
   "cell_type": "code",
   "execution_count": 8,
   "metadata": {},
   "outputs": [
    {
     "data": {
      "application/vnd.jupyter.widget-view+json": {
       "model_id": "3c30db34b79f435bb5d36783d2aafb8d",
       "version_major": 2,
       "version_minor": 0
      },
      "text/plain": [
       "Output()"
      ]
     },
     "metadata": {},
     "output_type": "display_data"
    },
    {
     "data": {
      "text/html": [
       "<pre style=\"white-space:pre;overflow-x:auto;line-height:normal;font-family:Menlo,'DejaVu Sans Mono',consolas,'Courier New',monospace\"></pre>\n"
      ],
      "text/plain": []
     },
     "metadata": {},
     "output_type": "display_data"
    }
   ],
   "source": [
    "ds = fastrepl.remote_runner(generator=generator).run(job_id=\"fc-9rsr4OF6gQ02eDFSAxvJKf\")"
   ]
  },
  {
   "cell_type": "code",
   "execution_count": 9,
   "metadata": {},
   "outputs": [
    {
     "data": {
      "text/plain": [
       "['What are some challenges that young people face when trying to figure out what they want to do?',\n",
       " 'At what age do some people know what they want to do?',\n",
       " 'Why is it often difficult to find something you have an aptitude for and great interest in?',\n",
       " 'Why do ambitious people not have to worry much about the third criterion?',\n",
       " 'What are the three qualities that the work you choose needs to have?']"
      ]
     },
     "execution_count": 9,
     "metadata": {},
     "output_type": "execute_result"
    }
   ],
   "source": [
    "ds[\"question\"]"
   ]
  }
 ],
 "metadata": {
  "kernelspec": {
   "display_name": ".venv",
   "language": "python",
   "name": "python3"
  },
  "language_info": {
   "codemirror_mode": {
    "name": "ipython",
    "version": 3
   },
   "file_extension": ".py",
   "mimetype": "text/x-python",
   "name": "python",
   "nbconvert_exporter": "python",
   "pygments_lexer": "ipython3",
   "version": "3.11.3"
  },
  "orig_nbformat": 4
 },
 "nbformat": 4,
 "nbformat_minor": 2
}
