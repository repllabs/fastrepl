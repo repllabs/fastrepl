{
 "cells": [
  {
   "cell_type": "code",
   "execution_count": 1,
   "metadata": {},
   "outputs": [
    {
     "data": {
      "text/plain": [
       "fastrepl.Dataset({\n",
       "    features: ['current', 'meeting'],\n",
       "    num_rows: 1\n",
       "})"
      ]
     },
     "execution_count": 1,
     "metadata": {},
     "output_type": "execute_result"
    }
   ],
   "source": [
    "import fastrepl\n",
    "\n",
    "ds = fastrepl.Dataset.from_dict(\n",
    "    {\n",
    "        \"current\": [\"2023-10-17T14:30:00+02:00\"],\n",
    "        \"meeting\": [\"2023-10-17T15:30:00+02:00\"],\n",
    "    }\n",
    ")\n",
    "ds"
   ]
  },
  {
   "cell_type": "code",
   "execution_count": 2,
   "metadata": {},
   "outputs": [
    {
     "data": {
      "text/plain": [
       "fastrepl.Dataset({\n",
       "    features: ['current', 'meeting'],\n",
       "    num_rows: 4\n",
       "})"
      ]
     },
     "execution_count": 2,
     "metadata": {},
     "output_type": "execute_result"
    }
   ],
   "source": [
    "ds.augment(3)\n",
    "ds"
   ]
  },
  {
   "cell_type": "code",
   "execution_count": 3,
   "metadata": {},
   "outputs": [
    {
     "data": {
      "text/plain": [
       "(['2023-10-17T14:30:00+02:00',\n",
       "  '2024-05-20T10:30:00+02:00',\n",
       "  '2024-06-01T12:00:00+02:00',\n",
       "  '2024-07-15T16:30:00+02:00'],\n",
       " ['2023-10-17T15:30:00+02:00',\n",
       "  '2024-05-21T11:30:00+02:00',\n",
       "  '2024-06-02T13:00:00+02:00',\n",
       "  '2024-07-16T17:30:00+02:00'])"
      ]
     },
     "execution_count": 3,
     "metadata": {},
     "output_type": "execute_result"
    }
   ],
   "source": [
    "ds[\"current\"], ds[\"meeting\"]"
   ]
  },
  {
   "cell_type": "code",
   "execution_count": 4,
   "metadata": {},
   "outputs": [],
   "source": [
    "import requests\n",
    "\n",
    "\n",
    "def send_dataset_to_vellum(\n",
    "    ds: fastrepl.Dataset, vellum_api_key: str, vellum_test_suite_id: str\n",
    "):\n",
    "    for row in ds:\n",
    "        response = requests.post(\n",
    "            f\"https://api.vellum.ai/v1/test-suites/{vellum_test_suite_id}/test-cases\",\n",
    "            json={\"input_values\": row, \"evaluation_params\": {\"target\": \".\"}},\n",
    "            headers={\"Content-Type\": \"application/json\", \"X_API_KEY\": vellum_api_key},\n",
    "        )\n",
    "        if response.status_code != 200:\n",
    "            print(\"failed\")"
   ]
  },
  {
   "cell_type": "code",
   "execution_count": 5,
   "metadata": {},
   "outputs": [],
   "source": [
    "VELLUM_API_KEY = \"\"\n",
    "VELLUM_TEST_SUITE_ID = \"\"\n",
    "\n",
    "send_dataset_to_vellum(ds, VELLUM_API_KEY, VELLUM_TEST_SUITE_ID)"
   ]
  }
 ],
 "metadata": {
  "kernelspec": {
   "display_name": ".venv",
   "language": "python",
   "name": "python3"
  },
  "language_info": {
   "codemirror_mode": {
    "name": "ipython",
    "version": 3
   },
   "file_extension": ".py",
   "mimetype": "text/x-python",
   "name": "python",
   "nbconvert_exporter": "python",
   "pygments_lexer": "ipython3",
   "version": "3.11.3"
  }
 },
 "nbformat": 4,
 "nbformat_minor": 2
}
