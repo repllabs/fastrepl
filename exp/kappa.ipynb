{
 "cells": [
  {
   "cell_type": "code",
   "execution_count": 1,
   "metadata": {},
   "outputs": [],
   "source": [
    "import fastrepl"
   ]
  },
  {
   "cell_type": "code",
   "execution_count": 2,
   "metadata": {},
   "outputs": [
    {
     "data": {
      "application/vnd.jupyter.widget-view+json": {
       "model_id": "e8e6dbdad59e457f97803338ae94040e",
       "version_major": 2,
       "version_minor": 0
      },
      "text/plain": [
       "Map:   0%|          | 0/50 [00:00<?, ? examples/s]"
      ]
     },
     "metadata": {},
     "output_type": "display_data"
    },
    {
     "data": {
      "text/plain": [
       "Dataset({\n",
       "    features: ['sample'],\n",
       "    num_rows: 50\n",
       "})"
      ]
     },
     "execution_count": 2,
     "metadata": {},
     "output_type": "execute_result"
    }
   ],
   "source": [
    "import re\n",
    "from datasets import load_dataset\n",
    "\n",
    "ds = load_dataset(\"daily_dialog\", split=\"test\")\n",
    "ds = ds.shuffle(4)\n",
    "ds = ds.select(range(50))\n",
    "\n",
    "\n",
    "def clean(text):\n",
    "    return re.sub(r\"\\s+([,.'!?])\", r\"\\1\", text.strip())\n",
    "\n",
    "\n",
    "def get_input(row):\n",
    "    msgs = [clean(msg) for msg in row[\"dialog\"]]\n",
    "    row[\"sample\"] = \"\\n\".join(msgs)  # `SimpleEvaluator` expect `sample` column\n",
    "\n",
    "    return row\n",
    "\n",
    "\n",
    "ds = ds.map(get_input, remove_columns=[\"dialog\", \"act\", \"emotion\"])\n",
    "ds"
   ]
  },
  {
   "cell_type": "code",
   "execution_count": 3,
   "metadata": {},
   "outputs": [],
   "source": [
    "evaluator = fastrepl.SimpleEvaluator(\n",
    "    node=fastrepl.LLMClassificationHead(\n",
    "        model=\"gpt-3.5-turbo\",\n",
    "        context=\"You will receive casual conversation between two people.\",\n",
    "        labels={\n",
    "            \"FUN\": \"at least one of the two people try to be funny and entertain.\",\n",
    "            \"NOT_FUN\": \"given conversation lacks humor or entertainment value.\",\n",
    "        },\n",
    "    ),\n",
    ")"
   ]
  },
  {
   "cell_type": "code",
   "execution_count": 5,
   "metadata": {},
   "outputs": [
    {
     "data": {
      "application/vnd.jupyter.widget-view+json": {
       "model_id": "083cbbc2a21a485ab2d00c0ae5716410",
       "version_major": 2,
       "version_minor": 0
      },
      "text/plain": [
       "Output()"
      ]
     },
     "metadata": {},
     "output_type": "display_data"
    },
    {
     "data": {
      "text/html": [
       "<pre style=\"white-space:pre;overflow-x:auto;line-height:normal;font-family:Menlo,'DejaVu Sans Mono',consolas,'Courier New',monospace\"></pre>\n"
      ],
      "text/plain": []
     },
     "metadata": {},
     "output_type": "display_data"
    },
    {
     "data": {
      "text/html": [
       "<pre style=\"white-space:pre;overflow-x:auto;line-height:normal;font-family:Menlo,'DejaVu Sans Mono',consolas,'Courier New',monospace\">\n",
       "</pre>\n"
      ],
      "text/plain": [
       "\n"
      ]
     },
     "metadata": {},
     "output_type": "display_data"
    },
    {
     "data": {
      "text/html": [
       "<div>\n",
       "<style scoped>\n",
       "    .dataframe tbody tr th:only-of-type {\n",
       "        vertical-align: middle;\n",
       "    }\n",
       "\n",
       "    .dataframe tbody tr th {\n",
       "        vertical-align: top;\n",
       "    }\n",
       "\n",
       "    .dataframe thead th {\n",
       "        text-align: right;\n",
       "    }\n",
       "</style>\n",
       "<table border=\"1\" class=\"dataframe\">\n",
       "  <thead>\n",
       "    <tr style=\"text-align: right;\">\n",
       "      <th></th>\n",
       "      <th>sample</th>\n",
       "      <th>result</th>\n",
       "    </tr>\n",
       "  </thead>\n",
       "  <tbody>\n",
       "    <tr>\n",
       "      <th>0</th>\n",
       "      <td>Would you like to take a look at the menu, sir...</td>\n",
       "      <td>[NOT_FUN, NOT_FUN, NOT_FUN, NOT_FUN]</td>\n",
       "    </tr>\n",
       "    <tr>\n",
       "      <th>1</th>\n",
       "      <td>Help! Help!\\nWhat's the matter?</td>\n",
       "      <td>[NOT_FUN, FUN, FUN, NOT_FUN]</td>\n",
       "    </tr>\n",
       "    <tr>\n",
       "      <th>2</th>\n",
       "      <td>Whatever we do, we should do it above board.\\n...</td>\n",
       "      <td>[FUN, FUN, FUN, FUN]</td>\n",
       "    </tr>\n",
       "    <tr>\n",
       "      <th>3</th>\n",
       "      <td>May I see your passport, please?\\nCertainly. H...</td>\n",
       "      <td>[NOT_FUN, NOT_FUN, FUN, FUN]</td>\n",
       "    </tr>\n",
       "    <tr>\n",
       "      <th>4</th>\n",
       "      <td>We're thinking about going to America.\\nHave y...</td>\n",
       "      <td>[FUN, NOT_FUN, FUN, NOT_FUN]</td>\n",
       "    </tr>\n",
       "    <tr>\n",
       "      <th>5</th>\n",
       "      <td>Do you believe in UFOs?\\nOf course, they are o...</td>\n",
       "      <td>[FUN, NOT_FUN, FUN, FUN]</td>\n",
       "    </tr>\n",
       "    <tr>\n",
       "      <th>6</th>\n",
       "      <td>What do you think about the equipment in our c...</td>\n",
       "      <td>[FUN, NOT_FUN, NOT_FUN, FUN]</td>\n",
       "    </tr>\n",
       "    <tr>\n",
       "      <th>7</th>\n",
       "      <td>How was your business trip?\\nGreat - they wine...</td>\n",
       "      <td>[FUN, FUN, FUN, NOT_FUN]</td>\n",
       "    </tr>\n",
       "    <tr>\n",
       "      <th>8</th>\n",
       "      <td>Hello, Parker. How ’ s everything?\\nCan ’ t co...</td>\n",
       "      <td>[NOT_FUN, FUN, NOT_FUN, NOT_FUN]</td>\n",
       "    </tr>\n",
       "    <tr>\n",
       "      <th>9</th>\n",
       "      <td>Our toner cartridges are already out of ink......</td>\n",
       "      <td>[FUN, NOT_FUN, FUN, FUN]</td>\n",
       "    </tr>\n",
       "  </tbody>\n",
       "</table>\n",
       "</div>"
      ],
      "text/plain": [
       "                                              sample  \\\n",
       "0  Would you like to take a look at the menu, sir...   \n",
       "1                    Help! Help!\\nWhat's the matter?   \n",
       "2  Whatever we do, we should do it above board.\\n...   \n",
       "3  May I see your passport, please?\\nCertainly. H...   \n",
       "4  We're thinking about going to America.\\nHave y...   \n",
       "5  Do you believe in UFOs?\\nOf course, they are o...   \n",
       "6  What do you think about the equipment in our c...   \n",
       "7  How was your business trip?\\nGreat - they wine...   \n",
       "8  Hello, Parker. How ’ s everything?\\nCan ’ t co...   \n",
       "9  Our toner cartridges are already out of ink......   \n",
       "\n",
       "                                 result  \n",
       "0  [NOT_FUN, NOT_FUN, NOT_FUN, NOT_FUN]  \n",
       "1          [NOT_FUN, FUN, FUN, NOT_FUN]  \n",
       "2                  [FUN, FUN, FUN, FUN]  \n",
       "3          [NOT_FUN, NOT_FUN, FUN, FUN]  \n",
       "4          [FUN, NOT_FUN, FUN, NOT_FUN]  \n",
       "5              [FUN, NOT_FUN, FUN, FUN]  \n",
       "6          [FUN, NOT_FUN, NOT_FUN, FUN]  \n",
       "7              [FUN, FUN, FUN, NOT_FUN]  \n",
       "8      [NOT_FUN, FUN, NOT_FUN, NOT_FUN]  \n",
       "9              [FUN, NOT_FUN, FUN, FUN]  "
      ]
     },
     "execution_count": 5,
     "metadata": {},
     "output_type": "execute_result"
    }
   ],
   "source": [
    "result = fastrepl.local_runner(evaluator=evaluator, dataset=ds).run(num=4)\n",
    "result.to_pandas()[:10]"
   ]
  },
  {
   "cell_type": "code",
   "execution_count": 6,
   "metadata": {},
   "outputs": [
    {
     "data": {
      "text/plain": [
       "{'kappa': -0.009383345174804679}"
      ]
     },
     "execution_count": 6,
     "metadata": {},
     "output_type": "execute_result"
    }
   ],
   "source": [
    "fastrepl.Analyzer(result).run(mode=\"kappa\")"
   ]
  },
  {
   "cell_type": "code",
   "execution_count": 7,
   "metadata": {},
   "outputs": [
    {
     "name": "stdout",
     "output_type": "stream",
     "text": [
      "0.52\n",
      "0.52\n",
      "0.52\n",
      "0.4\n"
     ]
    }
   ],
   "source": [
    "def metric(result):\n",
    "    f = result.count(\"FUN\")\n",
    "    nf = result.count(\"NOT_FUN\")\n",
    "    return f / (f + nf)\n",
    "\n",
    "\n",
    "for r in list(zip(*result[\"result\"])):\n",
    "    print(metric(r))"
   ]
  }
 ],
 "metadata": {
  "kernelspec": {
   "display_name": ".venv",
   "language": "python",
   "name": "python3"
  },
  "language_info": {
   "codemirror_mode": {
    "name": "ipython",
    "version": 3
   },
   "file_extension": ".py",
   "mimetype": "text/x-python",
   "name": "python",
   "nbconvert_exporter": "python",
   "pygments_lexer": "ipython3",
   "version": "3.11.3"
  },
  "orig_nbformat": 4
 },
 "nbformat": 4,
 "nbformat_minor": 2
}
