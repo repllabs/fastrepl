{
 "cells": [
  {
   "cell_type": "code",
   "execution_count": 1,
   "metadata": {},
   "outputs": [
    {
     "name": "stdout",
     "output_type": "stream",
     "text": [
      "Note: you may need to restart the kernel to use updated packages.\n"
     ]
    }
   ],
   "source": [
    "%pip install -qq \"fastrepl[rag]>=0.0.16\"\n",
    "%pip install -qq -U embedchain"
   ]
  },
  {
   "cell_type": "code",
   "execution_count": null,
   "metadata": {},
   "outputs": [],
   "source": [
    "%env OPENAI_API_KEY="
   ]
  },
  {
   "cell_type": "code",
   "execution_count": 2,
   "metadata": {},
   "outputs": [],
   "source": [
    "from IPython.display import Markdown"
   ]
  },
  {
   "cell_type": "code",
   "execution_count": 3,
   "metadata": {},
   "outputs": [
    {
     "name": "stdout",
     "output_type": "stream",
     "text": [
      "Doc content has not changed. Skipping creating chunks and embeddings\n"
     ]
    },
    {
     "data": {
      "text/plain": [
       "'161fcad59ba37a28e60a45f5355dab43'"
      ]
     },
     "execution_count": 3,
     "metadata": {},
     "output_type": "execute_result"
    }
   ],
   "source": [
    "from embedchain import App\n",
    "\n",
    "pg_bot = App()\n",
    "pg_bot.add(\"http://paulgraham.com/greatwork.html\")"
   ]
  },
  {
   "cell_type": "code",
   "execution_count": 4,
   "metadata": {},
   "outputs": [
    {
     "data": {
      "text/markdown": [
       "\n",
       "  Use the following pieces of context to answer the query at the end.\n",
       "  If you don't know the answer, just say that you don't know, don't try to make up an answer.\n",
       "\n",
       "  interesting, which you necessarily will if you're on the right path, the work will probably feel less burdensome than a lot of your peers'.The discoveries are out there, waiting to be made. Why not by you? Notes[1] I don't think you could give a precise definition of what counts as great work. Doing great work means doing something important so well that you expand people's ideas of what's possible. But there's no threshold for importance. It's a matter of degree, and often hard to judge at the\n",
       "\n",
       "  Query: how to do great work?\n",
       "\n",
       "  Helpful Answer:\n"
      ],
      "text/plain": [
       "<IPython.core.display.Markdown object>"
      ]
     },
     "execution_count": 4,
     "metadata": {},
     "output_type": "execute_result"
    }
   ],
   "source": [
    "res = pg_bot.query(\"how to do great work?\", dry_run=True)\n",
    "Markdown(res)"
   ]
  },
  {
   "cell_type": "code",
   "execution_count": 15,
   "metadata": {},
   "outputs": [
    {
     "data": {
      "text/markdown": [
       "interesting, which you necessarily will if you're on the right path, the work will probably feel less burdensome than a lot of your peers'.The discoveries are out there, waiting to be made. Why not by you? Notes[1] I don't think you could give a precise definition of what counts as great work. Doing great work means doing something important so well that you expand people's ideas of what's possible. But there's no threshold for importance. It's a matter of degree, and often hard to judge at the"
      ],
      "text/plain": [
       "<IPython.core.display.Markdown object>"
      ]
     },
     "execution_count": 15,
     "metadata": {},
     "output_type": "execute_result"
    }
   ],
   "source": [
    "res = pg_bot.retrieve_from_database(\"how to do great work?\")\n",
    "Markdown(res[0])"
   ]
  },
  {
   "cell_type": "code",
   "execution_count": 5,
   "metadata": {},
   "outputs": [],
   "source": [
    "import fastrepl\n",
    "\n",
    "# grab one from app.fastrepl.com\n",
    "fastrepl.api_key = \"\""
   ]
  },
  {
   "cell_type": "code",
   "execution_count": 6,
   "metadata": {},
   "outputs": [],
   "source": [
    "generator = fastrepl.QuestionGenerator(source=\"http://paulgraham.com/greatwork.html\")"
   ]
  },
  {
   "cell_type": "code",
   "execution_count": 7,
   "metadata": {},
   "outputs": [
    {
     "data": {
      "application/vnd.jupyter.widget-view+json": {
       "model_id": "caa62c649e3545df9e2261ccbf369feb",
       "version_major": 2,
       "version_minor": 0
      },
      "text/plain": [
       "Output()"
      ]
     },
     "metadata": {},
     "output_type": "display_data"
    },
    {
     "data": {
      "text/html": [
       "<pre style=\"white-space:pre;overflow-x:auto;line-height:normal;font-family:Menlo,'DejaVu Sans Mono',consolas,'Courier New',monospace\"></pre>\n"
      ],
      "text/plain": []
     },
     "metadata": {},
     "output_type": "display_data"
    },
    {
     "data": {
      "text/html": [
       "<pre style=\"white-space:pre;overflow-x:auto;line-height:normal;font-family:Menlo,'DejaVu Sans Mono',consolas,'Courier New',monospace\"><span style=\"color: #00d7af; text-decoration-color: #00d7af\">Interrupted!</span>\n",
       "<span style=\"color: #00d7af; text-decoration-color: #00d7af\">You can retrieve the job status with `</span><span style=\"color: #00d7af; text-decoration-color: #00d7af; font-weight: bold\">run(</span><span style=\"color: #00d7af; text-decoration-color: #00d7af\">job_id</span><span style=\"color: #00d7af; text-decoration-color: #00d7af\">=</span><span style=\"color: #00d7af; text-decoration-color: #00d7af\">'fc-mhQTchhxonldFZtIxTlTDi'</span><span style=\"color: #00d7af; text-decoration-color: #00d7af; font-weight: bold\">)</span><span style=\"color: #00d7af; text-decoration-color: #00d7af\">`</span>\n",
       "</pre>\n"
      ],
      "text/plain": [
       "\u001b[38;5;43mInterrupted!\u001b[0m\n",
       "\u001b[38;5;43mYou can retrieve the job status with `\u001b[0m\u001b[1;38;5;43mrun\u001b[0m\u001b[1;38;5;43m(\u001b[0m\u001b[38;5;43mjob_id\u001b[0m\u001b[38;5;43m=\u001b[0m\u001b[38;5;43m'fc-mhQTchhxonldFZtIxTlTDi'\u001b[0m\u001b[1;38;5;43m)\u001b[0m\u001b[38;5;43m`\u001b[0m\n"
      ]
     },
     "metadata": {},
     "output_type": "display_data"
    }
   ],
   "source": [
    "ds = fastrepl.remote_runner(generator=generator).run()"
   ]
  },
  {
   "cell_type": "code",
   "execution_count": 8,
   "metadata": {},
   "outputs": [
    {
     "data": {
      "application/vnd.jupyter.widget-view+json": {
       "model_id": "a5966f82edd44eb2afeba1dffa9a7b90",
       "version_major": 2,
       "version_minor": 0
      },
      "text/plain": [
       "Output()"
      ]
     },
     "metadata": {},
     "output_type": "display_data"
    },
    {
     "data": {
      "text/html": [
       "<pre style=\"white-space:pre;overflow-x:auto;line-height:normal;font-family:Menlo,'DejaVu Sans Mono',consolas,'Courier New',monospace\"></pre>\n"
      ],
      "text/plain": []
     },
     "metadata": {},
     "output_type": "display_data"
    }
   ],
   "source": [
    "ds = fastrepl.remote_runner(generator=generator).run(job_id=\"fc-mhQTchhxonldFZtIxTlTDi\")"
   ]
  },
  {
   "cell_type": "code",
   "execution_count": 9,
   "metadata": {},
   "outputs": [
    {
     "data": {
      "text/plain": [
       "fastrepl.Dataset({\n",
       "    features: ['question'],\n",
       "    num_rows: 43\n",
       "})"
      ]
     },
     "execution_count": 9,
     "metadata": {},
     "output_type": "execute_result"
    }
   ],
   "source": [
    "ds"
   ]
  },
  {
   "cell_type": "code",
   "execution_count": 10,
   "metadata": {},
   "outputs": [
    {
     "data": {
      "text/plain": [
       "[\"How does the concept of morale affect one's ability to do great work?\"]"
      ]
     },
     "execution_count": 10,
     "metadata": {},
     "output_type": "execute_result"
    }
   ],
   "source": [
    "questions = ds[\"question\"][:10]\n",
    "questions[:1]"
   ]
  },
  {
   "cell_type": "code",
   "execution_count": 13,
   "metadata": {},
   "outputs": [
    {
     "data": {
      "application/vnd.jupyter.widget-view+json": {
       "model_id": "9d9e512496aa49208ee2b07513a65e99",
       "version_major": 2,
       "version_minor": 0
      },
      "text/plain": [
       "Output()"
      ]
     },
     "metadata": {},
     "output_type": "display_data"
    },
    {
     "data": {
      "text/html": [
       "<pre style=\"white-space:pre;overflow-x:auto;line-height:normal;font-family:Menlo,'DejaVu Sans Mono',consolas,'Courier New',monospace\"></pre>\n"
      ],
      "text/plain": []
     },
     "metadata": {},
     "output_type": "display_data"
    },
    {
     "data": {
      "text/html": [
       "<pre style=\"white-space:pre;overflow-x:auto;line-height:normal;font-family:Menlo,'DejaVu Sans Mono',consolas,'Courier New',monospace\">\n",
       "</pre>\n"
      ],
      "text/plain": [
       "\n"
      ]
     },
     "metadata": {},
     "output_type": "display_data"
    },
    {
     "data": {
      "text/plain": [
       "[\"The concept of morale affects one's ability to do great work by serving as the basis for everything when working on ambitious projects. It is important to nurture and protect morale like a living organism. Being an optimist and having a positive view of life can increase the likelihood of doing great work.\"]"
      ]
     },
     "execution_count": 13,
     "metadata": {},
     "output_type": "execute_result"
    }
   ],
   "source": [
    "runner = fastrepl.local_runner(fn=pg_bot.query, output_feature=\"answer\")\n",
    "\n",
    "ds = fastrepl.local_runner(fn=pg_bot.query).run(args_list=[(q,) for q in questions])\n",
    "\n",
    "answers = ds[\"answer\"]\n",
    "answers[:1]"
   ]
  },
  {
   "cell_type": "code",
   "execution_count": 14,
   "metadata": {},
   "outputs": [
    {
     "data": {
      "application/vnd.jupyter.widget-view+json": {
       "model_id": "167ae9492a4f4ab1bfd5396ee44ad616",
       "version_major": 2,
       "version_minor": 0
      },
      "text/plain": [
       "Output()"
      ]
     },
     "metadata": {},
     "output_type": "display_data"
    },
    {
     "data": {
      "text/html": [
       "<pre style=\"white-space:pre;overflow-x:auto;line-height:normal;font-family:Menlo,'DejaVu Sans Mono',consolas,'Courier New',monospace\"></pre>\n"
      ],
      "text/plain": []
     },
     "metadata": {},
     "output_type": "display_data"
    },
    {
     "data": {
      "text/html": [
       "<pre style=\"white-space:pre;overflow-x:auto;line-height:normal;font-family:Menlo,'DejaVu Sans Mono',consolas,'Courier New',monospace\">\n",
       "</pre>\n"
      ],
      "text/plain": [
       "\n"
      ]
     },
     "metadata": {},
     "output_type": "display_data"
    },
    {
     "data": {
      "text/plain": [
       "[[\"have to become a manager, and managing well takes aptitude and interest like any other kind of work. If you don't have them, there is no middle path: you must either force yourself to learn management as a second language, or avoid such projects. [27] Husband your morale. It's the basis of everything when you're working on ambitious projects. You have to nurture and protect it like a living organism.Morale starts with your view of life. You're more likely to do great work if you're an optimist,\"]]"
      ]
     },
     "execution_count": 14,
     "metadata": {},
     "output_type": "execute_result"
    }
   ],
   "source": [
    "runner = fastrepl.local_runner(\n",
    "    fn=pg_bot.retrieve_from_database, output_feature=\"contexts\"\n",
    ")\n",
    "\n",
    "ds = runner.run(args_list=[(q,) for q in questions])\n",
    "\n",
    "contexts = ds[\"contexts\"]\n",
    "contexts[:1]"
   ]
  },
  {
   "cell_type": "code",
   "execution_count": 15,
   "metadata": {},
   "outputs": [
    {
     "data": {
      "text/plain": [
       "fastrepl.Dataset({\n",
       "    features: ['question', 'answer', 'contexts'],\n",
       "    num_rows: 10\n",
       "})"
      ]
     },
     "execution_count": 15,
     "metadata": {},
     "output_type": "execute_result"
    }
   ],
   "source": [
    "ds = fastrepl.Dataset.from_dict(\n",
    "    {\n",
    "        \"question\": questions,\n",
    "        \"answer\": answers,\n",
    "        \"contexts\": contexts,\n",
    "    }\n",
    ")\n",
    "ds"
   ]
  },
  {
   "cell_type": "code",
   "execution_count": 16,
   "metadata": {},
   "outputs": [],
   "source": [
    "evaluator = fastrepl.RAGEvaluator(\n",
    "    node=fastrepl.RAGAS(model=\"gpt-3.5-turbo\", metric=\"AnswerRelevancy\")\n",
    ")"
   ]
  },
  {
   "cell_type": "code",
   "execution_count": 17,
   "metadata": {},
   "outputs": [
    {
     "data": {
      "text/html": [
       "<pre style=\"white-space:pre;overflow-x:auto;line-height:normal;font-family:Menlo,'DejaVu Sans Mono',consolas,'Courier New',monospace\">\n",
       "</pre>\n"
      ],
      "text/plain": [
       "\n"
      ]
     },
     "metadata": {},
     "output_type": "display_data"
    },
    {
     "data": {
      "text/plain": [
       "fastrepl.Dataset({\n",
       "    features: ['question', 'answer', 'contexts', 'result'],\n",
       "    num_rows: 10\n",
       "})"
      ]
     },
     "execution_count": 17,
     "metadata": {},
     "output_type": "execute_result"
    }
   ],
   "source": [
    "result = fastrepl.local_runner(evaluator=evaluator, dataset=ds).run(show_progress=False)\n",
    "result"
   ]
  },
  {
   "cell_type": "code",
   "execution_count": 18,
   "metadata": {},
   "outputs": [
    {
     "data": {
      "text/plain": [
       "[0.9626099323357186,\n",
       " 0.9999995231647457,\n",
       " 0.9896081791118906,\n",
       " 0.999998666912428,\n",
       " 0.9999989920279274,\n",
       " 0.9863811768369456,\n",
       " 0.8960008048863152,\n",
       " 0.835167892418118,\n",
       " 0.9771222554067247,\n",
       " 0.9968260461237679]"
      ]
     },
     "execution_count": 18,
     "metadata": {},
     "output_type": "execute_result"
    }
   ],
   "source": [
    "result[\"result\"]"
   ]
  }
 ],
 "metadata": {
  "kernelspec": {
   "display_name": ".venv",
   "language": "python",
   "name": "python3"
  },
  "language_info": {
   "codemirror_mode": {
    "name": "ipython",
    "version": 3
   },
   "file_extension": ".py",
   "mimetype": "text/x-python",
   "name": "python",
   "nbconvert_exporter": "python",
   "pygments_lexer": "ipython3",
   "version": "3.11.3"
  },
  "orig_nbformat": 4
 },
 "nbformat": 4,
 "nbformat_minor": 2
}
